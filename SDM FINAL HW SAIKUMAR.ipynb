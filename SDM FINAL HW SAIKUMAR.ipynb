{
 "cells": [
  {
   "cell_type": "markdown",
   "id": "b4cd17c6",
   "metadata": {},
   "source": [
    "### Q3. (ESL Exercise 15.6) Fit a series of random-forest classifiers to the SPAM data, to explore the sensitivity to m (the number of randomly selected inputs for each tree). Plot both the OOB error as well as the test error against a suitably chosen range of values for m."
   ]
  },
  {
   "cell_type": "code",
   "execution_count": 1,
   "id": "fbd084c3",
   "metadata": {},
   "outputs": [
    {
     "name": "stdout",
     "output_type": "stream",
     "text": [
      "\n",
      "The downloaded binary packages are in\n",
      "\t/var/folders/p2/3vyybrys3f5cgcrs2zkj3hdw0000gn/T//RtmpCMcOpI/downloaded_packages\n",
      "\n",
      "The downloaded binary packages are in\n",
      "\t/var/folders/p2/3vyybrys3f5cgcrs2zkj3hdw0000gn/T//RtmpCMcOpI/downloaded_packages\n"
     ]
    }
   ],
   "source": [
    "install.packages(\"randomForest\")\n",
    "install.packages('ggplot2')"
   ]
  },
  {
   "cell_type": "code",
   "execution_count": 2,
   "id": "71dc3250",
   "metadata": {},
   "outputs": [
    {
     "name": "stderr",
     "output_type": "stream",
     "text": [
      "\n",
      "Attaching package: ‘dplyr’\n",
      "\n",
      "\n",
      "The following objects are masked from ‘package:stats’:\n",
      "\n",
      "    filter, lag\n",
      "\n",
      "\n",
      "The following objects are masked from ‘package:base’:\n",
      "\n",
      "    intersect, setdiff, setequal, union\n",
      "\n",
      "\n",
      "randomForest 4.7-1.1\n",
      "\n",
      "Type rfNews() to see new features/changes/bug fixes.\n",
      "\n",
      "\n",
      "Attaching package: ‘randomForest’\n",
      "\n",
      "\n",
      "The following object is masked from ‘package:dplyr’:\n",
      "\n",
      "    combine\n",
      "\n",
      "\n"
     ]
    }
   ],
   "source": [
    "library(dplyr)\n",
    "library(randomForest)"
   ]
  },
  {
   "cell_type": "code",
   "execution_count": 3,
   "id": "aebff9a0",
   "metadata": {},
   "outputs": [
    {
     "name": "stdout",
     "output_type": "stream",
     "text": [
      "\n",
      "The downloaded binary packages are in\n",
      "\t/var/folders/p2/3vyybrys3f5cgcrs2zkj3hdw0000gn/T//RtmpCMcOpI/downloaded_packages\n"
     ]
    }
   ],
   "source": [
    "install.packages(\"patchwork\")"
   ]
  },
  {
   "cell_type": "code",
   "execution_count": 4,
   "id": "a49e2861",
   "metadata": {},
   "outputs": [
    {
     "name": "stderr",
     "output_type": "stream",
     "text": [
      "Loading required package: ggplot2\n",
      "\n",
      "\n",
      "Attaching package: ‘ggplot2’\n",
      "\n",
      "\n",
      "The following object is masked from ‘package:randomForest’:\n",
      "\n",
      "    margin\n",
      "\n",
      "\n",
      "Loading required package: lattice\n",
      "\n"
     ]
    }
   ],
   "source": [
    "library(caret)\n",
    "library(ggplot2)\n",
    "library(patchwork)"
   ]
  },
  {
   "cell_type": "code",
   "execution_count": 5,
   "id": "cfe129a6",
   "metadata": {},
   "outputs": [],
   "source": [
    "#loading the data\n",
    "spam_data <-  read.table(\"/Users/Bablu/Desktop/SDM/SDM FINAL HW/data.spam.txt\")"
   ]
  },
  {
   "cell_type": "code",
   "execution_count": 6,
   "id": "f195785f",
   "metadata": {},
   "outputs": [],
   "source": [
    "set.seed(37)"
   ]
  },
  {
   "cell_type": "code",
   "execution_count": 7,
   "id": "d2260b2f",
   "metadata": {},
   "outputs": [
    {
     "data": {
      "text/html": [
       "<table class=\"dataframe\">\n",
       "<caption>A data.frame: 6 × 58</caption>\n",
       "<thead>\n",
       "\t<tr><th></th><th scope=col>V1</th><th scope=col>V2</th><th scope=col>V3</th><th scope=col>V4</th><th scope=col>V5</th><th scope=col>V6</th><th scope=col>V7</th><th scope=col>V8</th><th scope=col>V9</th><th scope=col>V10</th><th scope=col>⋯</th><th scope=col>V49</th><th scope=col>V50</th><th scope=col>V51</th><th scope=col>V52</th><th scope=col>V53</th><th scope=col>V54</th><th scope=col>V55</th><th scope=col>V56</th><th scope=col>V57</th><th scope=col>V58</th></tr>\n",
       "\t<tr><th></th><th scope=col>&lt;dbl&gt;</th><th scope=col>&lt;dbl&gt;</th><th scope=col>&lt;dbl&gt;</th><th scope=col>&lt;dbl&gt;</th><th scope=col>&lt;dbl&gt;</th><th scope=col>&lt;dbl&gt;</th><th scope=col>&lt;dbl&gt;</th><th scope=col>&lt;dbl&gt;</th><th scope=col>&lt;dbl&gt;</th><th scope=col>&lt;dbl&gt;</th><th scope=col>⋯</th><th scope=col>&lt;dbl&gt;</th><th scope=col>&lt;dbl&gt;</th><th scope=col>&lt;dbl&gt;</th><th scope=col>&lt;dbl&gt;</th><th scope=col>&lt;dbl&gt;</th><th scope=col>&lt;dbl&gt;</th><th scope=col>&lt;dbl&gt;</th><th scope=col>&lt;int&gt;</th><th scope=col>&lt;int&gt;</th><th scope=col>&lt;int&gt;</th></tr>\n",
       "</thead>\n",
       "<tbody>\n",
       "\t<tr><th scope=row>1</th><td>0.00</td><td>0.64</td><td>0.64</td><td>0</td><td>0.32</td><td>0.00</td><td>0.00</td><td>0.00</td><td>0.00</td><td>0.00</td><td>⋯</td><td>0.00</td><td>0.000</td><td>0</td><td>0.778</td><td>0.000</td><td>0.000</td><td>3.756</td><td> 61</td><td> 278</td><td>1</td></tr>\n",
       "\t<tr><th scope=row>2</th><td>0.21</td><td>0.28</td><td>0.50</td><td>0</td><td>0.14</td><td>0.28</td><td>0.21</td><td>0.07</td><td>0.00</td><td>0.94</td><td>⋯</td><td>0.00</td><td>0.132</td><td>0</td><td>0.372</td><td>0.180</td><td>0.048</td><td>5.114</td><td>101</td><td>1028</td><td>1</td></tr>\n",
       "\t<tr><th scope=row>3</th><td>0.06</td><td>0.00</td><td>0.71</td><td>0</td><td>1.23</td><td>0.19</td><td>0.19</td><td>0.12</td><td>0.64</td><td>0.25</td><td>⋯</td><td>0.01</td><td>0.143</td><td>0</td><td>0.276</td><td>0.184</td><td>0.010</td><td>9.821</td><td>485</td><td>2259</td><td>1</td></tr>\n",
       "\t<tr><th scope=row>4</th><td>0.00</td><td>0.00</td><td>0.00</td><td>0</td><td>0.63</td><td>0.00</td><td>0.31</td><td>0.63</td><td>0.31</td><td>0.63</td><td>⋯</td><td>0.00</td><td>0.137</td><td>0</td><td>0.137</td><td>0.000</td><td>0.000</td><td>3.537</td><td> 40</td><td> 191</td><td>1</td></tr>\n",
       "\t<tr><th scope=row>5</th><td>0.00</td><td>0.00</td><td>0.00</td><td>0</td><td>0.63</td><td>0.00</td><td>0.31</td><td>0.63</td><td>0.31</td><td>0.63</td><td>⋯</td><td>0.00</td><td>0.135</td><td>0</td><td>0.135</td><td>0.000</td><td>0.000</td><td>3.537</td><td> 40</td><td> 191</td><td>1</td></tr>\n",
       "\t<tr><th scope=row>6</th><td>0.00</td><td>0.00</td><td>0.00</td><td>0</td><td>1.85</td><td>0.00</td><td>0.00</td><td>1.85</td><td>0.00</td><td>0.00</td><td>⋯</td><td>0.00</td><td>0.223</td><td>0</td><td>0.000</td><td>0.000</td><td>0.000</td><td>3.000</td><td> 15</td><td>  54</td><td>1</td></tr>\n",
       "</tbody>\n",
       "</table>\n"
      ],
      "text/latex": [
       "A data.frame: 6 × 58\n",
       "\\begin{tabular}{r|lllllllllllllllllllll}\n",
       "  & V1 & V2 & V3 & V4 & V5 & V6 & V7 & V8 & V9 & V10 & ⋯ & V49 & V50 & V51 & V52 & V53 & V54 & V55 & V56 & V57 & V58\\\\\n",
       "  & <dbl> & <dbl> & <dbl> & <dbl> & <dbl> & <dbl> & <dbl> & <dbl> & <dbl> & <dbl> & ⋯ & <dbl> & <dbl> & <dbl> & <dbl> & <dbl> & <dbl> & <dbl> & <int> & <int> & <int>\\\\\n",
       "\\hline\n",
       "\t1 & 0.00 & 0.64 & 0.64 & 0 & 0.32 & 0.00 & 0.00 & 0.00 & 0.00 & 0.00 & ⋯ & 0.00 & 0.000 & 0 & 0.778 & 0.000 & 0.000 & 3.756 &  61 &  278 & 1\\\\\n",
       "\t2 & 0.21 & 0.28 & 0.50 & 0 & 0.14 & 0.28 & 0.21 & 0.07 & 0.00 & 0.94 & ⋯ & 0.00 & 0.132 & 0 & 0.372 & 0.180 & 0.048 & 5.114 & 101 & 1028 & 1\\\\\n",
       "\t3 & 0.06 & 0.00 & 0.71 & 0 & 1.23 & 0.19 & 0.19 & 0.12 & 0.64 & 0.25 & ⋯ & 0.01 & 0.143 & 0 & 0.276 & 0.184 & 0.010 & 9.821 & 485 & 2259 & 1\\\\\n",
       "\t4 & 0.00 & 0.00 & 0.00 & 0 & 0.63 & 0.00 & 0.31 & 0.63 & 0.31 & 0.63 & ⋯ & 0.00 & 0.137 & 0 & 0.137 & 0.000 & 0.000 & 3.537 &  40 &  191 & 1\\\\\n",
       "\t5 & 0.00 & 0.00 & 0.00 & 0 & 0.63 & 0.00 & 0.31 & 0.63 & 0.31 & 0.63 & ⋯ & 0.00 & 0.135 & 0 & 0.135 & 0.000 & 0.000 & 3.537 &  40 &  191 & 1\\\\\n",
       "\t6 & 0.00 & 0.00 & 0.00 & 0 & 1.85 & 0.00 & 0.00 & 1.85 & 0.00 & 0.00 & ⋯ & 0.00 & 0.223 & 0 & 0.000 & 0.000 & 0.000 & 3.000 &  15 &   54 & 1\\\\\n",
       "\\end{tabular}\n"
      ],
      "text/markdown": [
       "\n",
       "A data.frame: 6 × 58\n",
       "\n",
       "| <!--/--> | V1 &lt;dbl&gt; | V2 &lt;dbl&gt; | V3 &lt;dbl&gt; | V4 &lt;dbl&gt; | V5 &lt;dbl&gt; | V6 &lt;dbl&gt; | V7 &lt;dbl&gt; | V8 &lt;dbl&gt; | V9 &lt;dbl&gt; | V10 &lt;dbl&gt; | ⋯ ⋯ | V49 &lt;dbl&gt; | V50 &lt;dbl&gt; | V51 &lt;dbl&gt; | V52 &lt;dbl&gt; | V53 &lt;dbl&gt; | V54 &lt;dbl&gt; | V55 &lt;dbl&gt; | V56 &lt;int&gt; | V57 &lt;int&gt; | V58 &lt;int&gt; |\n",
       "|---|---|---|---|---|---|---|---|---|---|---|---|---|---|---|---|---|---|---|---|---|---|\n",
       "| 1 | 0.00 | 0.64 | 0.64 | 0 | 0.32 | 0.00 | 0.00 | 0.00 | 0.00 | 0.00 | ⋯ | 0.00 | 0.000 | 0 | 0.778 | 0.000 | 0.000 | 3.756 |  61 |  278 | 1 |\n",
       "| 2 | 0.21 | 0.28 | 0.50 | 0 | 0.14 | 0.28 | 0.21 | 0.07 | 0.00 | 0.94 | ⋯ | 0.00 | 0.132 | 0 | 0.372 | 0.180 | 0.048 | 5.114 | 101 | 1028 | 1 |\n",
       "| 3 | 0.06 | 0.00 | 0.71 | 0 | 1.23 | 0.19 | 0.19 | 0.12 | 0.64 | 0.25 | ⋯ | 0.01 | 0.143 | 0 | 0.276 | 0.184 | 0.010 | 9.821 | 485 | 2259 | 1 |\n",
       "| 4 | 0.00 | 0.00 | 0.00 | 0 | 0.63 | 0.00 | 0.31 | 0.63 | 0.31 | 0.63 | ⋯ | 0.00 | 0.137 | 0 | 0.137 | 0.000 | 0.000 | 3.537 |  40 |  191 | 1 |\n",
       "| 5 | 0.00 | 0.00 | 0.00 | 0 | 0.63 | 0.00 | 0.31 | 0.63 | 0.31 | 0.63 | ⋯ | 0.00 | 0.135 | 0 | 0.135 | 0.000 | 0.000 | 3.537 |  40 |  191 | 1 |\n",
       "| 6 | 0.00 | 0.00 | 0.00 | 0 | 1.85 | 0.00 | 0.00 | 1.85 | 0.00 | 0.00 | ⋯ | 0.00 | 0.223 | 0 | 0.000 | 0.000 | 0.000 | 3.000 |  15 |   54 | 1 |\n",
       "\n"
      ],
      "text/plain": [
       "  V1   V2   V3   V4 V5   V6   V7   V8   V9   V10  ⋯ V49  V50   V51 V52   V53  \n",
       "1 0.00 0.64 0.64 0  0.32 0.00 0.00 0.00 0.00 0.00 ⋯ 0.00 0.000 0   0.778 0.000\n",
       "2 0.21 0.28 0.50 0  0.14 0.28 0.21 0.07 0.00 0.94 ⋯ 0.00 0.132 0   0.372 0.180\n",
       "3 0.06 0.00 0.71 0  1.23 0.19 0.19 0.12 0.64 0.25 ⋯ 0.01 0.143 0   0.276 0.184\n",
       "4 0.00 0.00 0.00 0  0.63 0.00 0.31 0.63 0.31 0.63 ⋯ 0.00 0.137 0   0.137 0.000\n",
       "5 0.00 0.00 0.00 0  0.63 0.00 0.31 0.63 0.31 0.63 ⋯ 0.00 0.135 0   0.135 0.000\n",
       "6 0.00 0.00 0.00 0  1.85 0.00 0.00 1.85 0.00 0.00 ⋯ 0.00 0.223 0   0.000 0.000\n",
       "  V54   V55   V56 V57  V58\n",
       "1 0.000 3.756  61  278 1  \n",
       "2 0.048 5.114 101 1028 1  \n",
       "3 0.010 9.821 485 2259 1  \n",
       "4 0.000 3.537  40  191 1  \n",
       "5 0.000 3.537  40  191 1  \n",
       "6 0.000 3.000  15   54 1  "
      ]
     },
     "metadata": {},
     "output_type": "display_data"
    },
    {
     "data": {
      "text/html": [
       "<style>\n",
       ".list-inline {list-style: none; margin:0; padding: 0}\n",
       ".list-inline>li {display: inline-block}\n",
       ".list-inline>li:not(:last-child)::after {content: \"\\00b7\"; padding: 0 .5ex}\n",
       "</style>\n",
       "<ol class=list-inline><li>4601</li><li>58</li></ol>\n"
      ],
      "text/latex": [
       "\\begin{enumerate*}\n",
       "\\item 4601\n",
       "\\item 58\n",
       "\\end{enumerate*}\n"
      ],
      "text/markdown": [
       "1. 4601\n",
       "2. 58\n",
       "\n",
       "\n"
      ],
      "text/plain": [
       "[1] 4601   58"
      ]
     },
     "metadata": {},
     "output_type": "display_data"
    }
   ],
   "source": [
    "#observing the data\n",
    "head(spam_data)\n",
    "dim(spam_data)"
   ]
  },
  {
   "cell_type": "code",
   "execution_count": 8,
   "id": "3ee66381",
   "metadata": {},
   "outputs": [
    {
     "data": {
      "text/plain": [
       "       V1               V2               V3               V4          \n",
       " Min.   :0.0000   Min.   : 0.000   Min.   :0.0000   Min.   : 0.00000  \n",
       " 1st Qu.:0.0000   1st Qu.: 0.000   1st Qu.:0.0000   1st Qu.: 0.00000  \n",
       " Median :0.0000   Median : 0.000   Median :0.0000   Median : 0.00000  \n",
       " Mean   :0.1046   Mean   : 0.213   Mean   :0.2807   Mean   : 0.06542  \n",
       " 3rd Qu.:0.0000   3rd Qu.: 0.000   3rd Qu.:0.4200   3rd Qu.: 0.00000  \n",
       " Max.   :4.5400   Max.   :14.280   Max.   :5.1000   Max.   :42.81000  \n",
       "       V5                V6               V7               V8         \n",
       " Min.   : 0.0000   Min.   :0.0000   Min.   :0.0000   Min.   : 0.0000  \n",
       " 1st Qu.: 0.0000   1st Qu.:0.0000   1st Qu.:0.0000   1st Qu.: 0.0000  \n",
       " Median : 0.0000   Median :0.0000   Median :0.0000   Median : 0.0000  \n",
       " Mean   : 0.3122   Mean   :0.0959   Mean   :0.1142   Mean   : 0.1053  \n",
       " 3rd Qu.: 0.3800   3rd Qu.:0.0000   3rd Qu.:0.0000   3rd Qu.: 0.0000  \n",
       " Max.   :10.0000   Max.   :5.8800   Max.   :7.2700   Max.   :11.1100  \n",
       "       V9               V10               V11               V12        \n",
       " Min.   :0.00000   Min.   : 0.0000   Min.   :0.00000   Min.   :0.0000  \n",
       " 1st Qu.:0.00000   1st Qu.: 0.0000   1st Qu.:0.00000   1st Qu.:0.0000  \n",
       " Median :0.00000   Median : 0.0000   Median :0.00000   Median :0.1000  \n",
       " Mean   :0.09007   Mean   : 0.2394   Mean   :0.05982   Mean   :0.5417  \n",
       " 3rd Qu.:0.00000   3rd Qu.: 0.1600   3rd Qu.:0.00000   3rd Qu.:0.8000  \n",
       " Max.   :5.26000   Max.   :18.1800   Max.   :2.61000   Max.   :9.6700  \n",
       "      V13               V14                V15              V16         \n",
       " Min.   :0.00000   Min.   : 0.00000   Min.   :0.0000   Min.   : 0.0000  \n",
       " 1st Qu.:0.00000   1st Qu.: 0.00000   1st Qu.:0.0000   1st Qu.: 0.0000  \n",
       " Median :0.00000   Median : 0.00000   Median :0.0000   Median : 0.0000  \n",
       " Mean   :0.09393   Mean   : 0.05863   Mean   :0.0492   Mean   : 0.2488  \n",
       " 3rd Qu.:0.00000   3rd Qu.: 0.00000   3rd Qu.:0.0000   3rd Qu.: 0.1000  \n",
       " Max.   :5.55000   Max.   :10.00000   Max.   :4.4100   Max.   :20.0000  \n",
       "      V17              V18              V19              V20          \n",
       " Min.   :0.0000   Min.   :0.0000   Min.   : 0.000   Min.   : 0.00000  \n",
       " 1st Qu.:0.0000   1st Qu.:0.0000   1st Qu.: 0.000   1st Qu.: 0.00000  \n",
       " Median :0.0000   Median :0.0000   Median : 1.310   Median : 0.00000  \n",
       " Mean   :0.1426   Mean   :0.1847   Mean   : 1.662   Mean   : 0.08558  \n",
       " 3rd Qu.:0.0000   3rd Qu.:0.0000   3rd Qu.: 2.640   3rd Qu.: 0.00000  \n",
       " Max.   :7.1400   Max.   :9.0900   Max.   :18.750   Max.   :18.18000  \n",
       "      V21               V22               V23              V24          \n",
       " Min.   : 0.0000   Min.   : 0.0000   Min.   :0.0000   Min.   : 0.00000  \n",
       " 1st Qu.: 0.0000   1st Qu.: 0.0000   1st Qu.:0.0000   1st Qu.: 0.00000  \n",
       " Median : 0.2200   Median : 0.0000   Median :0.0000   Median : 0.00000  \n",
       " Mean   : 0.8098   Mean   : 0.1212   Mean   :0.1016   Mean   : 0.09427  \n",
       " 3rd Qu.: 1.2700   3rd Qu.: 0.0000   3rd Qu.:0.0000   3rd Qu.: 0.00000  \n",
       " Max.   :11.1100   Max.   :17.1000   Max.   :5.4500   Max.   :12.50000  \n",
       "      V25               V26               V27               V28        \n",
       " Min.   : 0.0000   Min.   : 0.0000   Min.   : 0.0000   Min.   :0.0000  \n",
       " 1st Qu.: 0.0000   1st Qu.: 0.0000   1st Qu.: 0.0000   1st Qu.:0.0000  \n",
       " Median : 0.0000   Median : 0.0000   Median : 0.0000   Median :0.0000  \n",
       " Mean   : 0.5495   Mean   : 0.2654   Mean   : 0.7673   Mean   :0.1248  \n",
       " 3rd Qu.: 0.0000   3rd Qu.: 0.0000   3rd Qu.: 0.0000   3rd Qu.:0.0000  \n",
       " Max.   :20.8300   Max.   :16.6600   Max.   :33.3300   Max.   :9.0900  \n",
       "      V29                V30              V31                V32         \n",
       " Min.   : 0.00000   Min.   :0.0000   Min.   : 0.00000   Min.   :0.00000  \n",
       " 1st Qu.: 0.00000   1st Qu.:0.0000   1st Qu.: 0.00000   1st Qu.:0.00000  \n",
       " Median : 0.00000   Median :0.0000   Median : 0.00000   Median :0.00000  \n",
       " Mean   : 0.09892   Mean   :0.1029   Mean   : 0.06475   Mean   :0.04705  \n",
       " 3rd Qu.: 0.00000   3rd Qu.:0.0000   3rd Qu.: 0.00000   3rd Qu.:0.00000  \n",
       " Max.   :14.28000   Max.   :5.8800   Max.   :12.50000   Max.   :4.76000  \n",
       "      V33                V34               V35               V36         \n",
       " Min.   : 0.00000   Min.   :0.00000   Min.   : 0.0000   Min.   :0.00000  \n",
       " 1st Qu.: 0.00000   1st Qu.:0.00000   1st Qu.: 0.0000   1st Qu.:0.00000  \n",
       " Median : 0.00000   Median :0.00000   Median : 0.0000   Median :0.00000  \n",
       " Mean   : 0.09723   Mean   :0.04784   Mean   : 0.1054   Mean   :0.09748  \n",
       " 3rd Qu.: 0.00000   3rd Qu.:0.00000   3rd Qu.: 0.0000   3rd Qu.:0.00000  \n",
       " Max.   :18.18000   Max.   :4.76000   Max.   :20.0000   Max.   :7.69000  \n",
       "      V37             V38              V39                V40         \n",
       " Min.   :0.000   Min.   :0.0000   Min.   : 0.00000   Min.   :0.00000  \n",
       " 1st Qu.:0.000   1st Qu.:0.0000   1st Qu.: 0.00000   1st Qu.:0.00000  \n",
       " Median :0.000   Median :0.0000   Median : 0.00000   Median :0.00000  \n",
       " Mean   :0.137   Mean   :0.0132   Mean   : 0.07863   Mean   :0.06483  \n",
       " 3rd Qu.:0.000   3rd Qu.:0.0000   3rd Qu.: 0.00000   3rd Qu.:0.00000  \n",
       " Max.   :6.890   Max.   :8.3300   Max.   :11.11000   Max.   :4.76000  \n",
       "      V41               V42               V43              V44         \n",
       " Min.   :0.00000   Min.   : 0.0000   Min.   :0.0000   Min.   : 0.0000  \n",
       " 1st Qu.:0.00000   1st Qu.: 0.0000   1st Qu.:0.0000   1st Qu.: 0.0000  \n",
       " Median :0.00000   Median : 0.0000   Median :0.0000   Median : 0.0000  \n",
       " Mean   :0.04367   Mean   : 0.1323   Mean   :0.0461   Mean   : 0.0792  \n",
       " 3rd Qu.:0.00000   3rd Qu.: 0.0000   3rd Qu.:0.0000   3rd Qu.: 0.0000  \n",
       " Max.   :7.14000   Max.   :14.2800   Max.   :3.5700   Max.   :20.0000  \n",
       "      V45               V46               V47                V48          \n",
       " Min.   : 0.0000   Min.   : 0.0000   Min.   :0.000000   Min.   : 0.00000  \n",
       " 1st Qu.: 0.0000   1st Qu.: 0.0000   1st Qu.:0.000000   1st Qu.: 0.00000  \n",
       " Median : 0.0000   Median : 0.0000   Median :0.000000   Median : 0.00000  \n",
       " Mean   : 0.3012   Mean   : 0.1798   Mean   :0.005444   Mean   : 0.03187  \n",
       " 3rd Qu.: 0.1100   3rd Qu.: 0.0000   3rd Qu.:0.000000   3rd Qu.: 0.00000  \n",
       " Max.   :21.4200   Max.   :22.0500   Max.   :2.170000   Max.   :10.00000  \n",
       "      V49               V50             V51               V52         \n",
       " Min.   :0.00000   Min.   :0.000   Min.   :0.00000   Min.   : 0.0000  \n",
       " 1st Qu.:0.00000   1st Qu.:0.000   1st Qu.:0.00000   1st Qu.: 0.0000  \n",
       " Median :0.00000   Median :0.065   Median :0.00000   Median : 0.0000  \n",
       " Mean   :0.03857   Mean   :0.139   Mean   :0.01698   Mean   : 0.2691  \n",
       " 3rd Qu.:0.00000   3rd Qu.:0.188   3rd Qu.:0.00000   3rd Qu.: 0.3150  \n",
       " Max.   :4.38500   Max.   :9.752   Max.   :4.08100   Max.   :32.4780  \n",
       "      V53               V54                V55                V56         \n",
       " Min.   :0.00000   Min.   : 0.00000   Min.   :   1.000   Min.   :   1.00  \n",
       " 1st Qu.:0.00000   1st Qu.: 0.00000   1st Qu.:   1.588   1st Qu.:   6.00  \n",
       " Median :0.00000   Median : 0.00000   Median :   2.276   Median :  15.00  \n",
       " Mean   :0.07581   Mean   : 0.04424   Mean   :   5.191   Mean   :  52.17  \n",
       " 3rd Qu.:0.05200   3rd Qu.: 0.00000   3rd Qu.:   3.706   3rd Qu.:  43.00  \n",
       " Max.   :6.00300   Max.   :19.82900   Max.   :1102.500   Max.   :9989.00  \n",
       "      V57               V58       \n",
       " Min.   :    1.0   Min.   :0.000  \n",
       " 1st Qu.:   35.0   1st Qu.:0.000  \n",
       " Median :   95.0   Median :0.000  \n",
       " Mean   :  283.3   Mean   :0.394  \n",
       " 3rd Qu.:  266.0   3rd Qu.:1.000  \n",
       " Max.   :15841.0   Max.   :1.000  "
      ]
     },
     "metadata": {},
     "output_type": "display_data"
    }
   ],
   "source": [
    "summary(spam_data)"
   ]
  },
  {
   "cell_type": "code",
   "execution_count": 9,
   "id": "0b99ac5d",
   "metadata": {},
   "outputs": [],
   "source": [
    "# converting to factor (if not randomForest does regression instead of classification)\n",
    "\n",
    "spam_data$V58 <- factor(spam_data$V58)"
   ]
  },
  {
   "cell_type": "code",
   "execution_count": 10,
   "id": "fdb4147d",
   "metadata": {},
   "outputs": [],
   "source": [
    "rows <- nrow(spam_data)"
   ]
  },
  {
   "cell_type": "code",
   "execution_count": 11,
   "id": "469a1d9a",
   "metadata": {},
   "outputs": [],
   "source": [
    "# Number of rows for the training set is 80% of the dataset\n",
    "row_train <- round(0.80 * rows)\n",
    "train_in <- sample(1:rows, row_train)"
   ]
  },
  {
   "cell_type": "code",
   "execution_count": 20,
   "id": "c93bf7fe",
   "metadata": {},
   "outputs": [
    {
     "data": {
      "text/html": [
       "<table class=\"dataframe\">\n",
       "<caption>A data.frame: 6 × 58</caption>\n",
       "<thead>\n",
       "\t<tr><th></th><th scope=col>V1</th><th scope=col>V2</th><th scope=col>V3</th><th scope=col>V4</th><th scope=col>V5</th><th scope=col>V6</th><th scope=col>V7</th><th scope=col>V8</th><th scope=col>V9</th><th scope=col>V10</th><th scope=col>⋯</th><th scope=col>V49</th><th scope=col>V50</th><th scope=col>V51</th><th scope=col>V52</th><th scope=col>V53</th><th scope=col>V54</th><th scope=col>V55</th><th scope=col>V56</th><th scope=col>V57</th><th scope=col>V58</th></tr>\n",
       "\t<tr><th></th><th scope=col>&lt;dbl&gt;</th><th scope=col>&lt;dbl&gt;</th><th scope=col>&lt;dbl&gt;</th><th scope=col>&lt;dbl&gt;</th><th scope=col>&lt;dbl&gt;</th><th scope=col>&lt;dbl&gt;</th><th scope=col>&lt;dbl&gt;</th><th scope=col>&lt;dbl&gt;</th><th scope=col>&lt;dbl&gt;</th><th scope=col>&lt;dbl&gt;</th><th scope=col>⋯</th><th scope=col>&lt;dbl&gt;</th><th scope=col>&lt;dbl&gt;</th><th scope=col>&lt;dbl&gt;</th><th scope=col>&lt;dbl&gt;</th><th scope=col>&lt;dbl&gt;</th><th scope=col>&lt;dbl&gt;</th><th scope=col>&lt;dbl&gt;</th><th scope=col>&lt;int&gt;</th><th scope=col>&lt;int&gt;</th><th scope=col>&lt;fct&gt;</th></tr>\n",
       "</thead>\n",
       "<tbody>\n",
       "\t<tr><th scope=row>3254</th><td>0.00</td><td>0</td><td>0.00</td><td>0</td><td>0.0</td><td>0.00</td><td>0.00</td><td>0.0</td><td>0.00</td><td>0.00</td><td>⋯</td><td>0</td><td>0.000</td><td>1.176</td><td>0.000</td><td>0.000</td><td>0.000</td><td>2.142</td><td> 8</td><td> 15</td><td>0</td></tr>\n",
       "\t<tr><th scope=row>1560</th><td>0.32</td><td>0</td><td>0.80</td><td>0</td><td>0.8</td><td>0.32</td><td>0.16</td><td>0.0</td><td>0.64</td><td>0.00</td><td>⋯</td><td>0</td><td>0.050</td><td>0.000</td><td>0.050</td><td>0.075</td><td>0.000</td><td>1.419</td><td>15</td><td>159</td><td>1</td></tr>\n",
       "\t<tr><th scope=row>621</th><td>0.00</td><td>0</td><td>0.00</td><td>0</td><td>0.0</td><td>0.00</td><td>0.00</td><td>0.0</td><td>0.00</td><td>0.00</td><td>⋯</td><td>0</td><td>0.000</td><td>0.000</td><td>0.125</td><td>0.000</td><td>1.126</td><td>7.054</td><td>37</td><td>261</td><td>1</td></tr>\n",
       "\t<tr><th scope=row>1460</th><td>0.70</td><td>0</td><td>1.05</td><td>0</td><td>0.0</td><td>0.00</td><td>0.00</td><td>1.4</td><td>0.35</td><td>0.35</td><td>⋯</td><td>0</td><td>0.116</td><td>0.000</td><td>0.348</td><td>0.000</td><td>0.000</td><td>1.166</td><td>13</td><td>189</td><td>1</td></tr>\n",
       "\t<tr><th scope=row>3199</th><td>0.00</td><td>0</td><td>0.00</td><td>0</td><td>0.0</td><td>0.00</td><td>0.00</td><td>0.0</td><td>0.00</td><td>0.00</td><td>⋯</td><td>0</td><td>0.000</td><td>0.000</td><td>0.000</td><td>0.000</td><td>0.000</td><td>1.000</td><td> 1</td><td>  6</td><td>0</td></tr>\n",
       "\t<tr><th scope=row>146</th><td>0.00</td><td>0</td><td>0.00</td><td>0</td><td>0.0</td><td>0.00</td><td>0.00</td><td>0.0</td><td>0.00</td><td>0.00</td><td>⋯</td><td>0</td><td>0.215</td><td>0.000</td><td>0.215</td><td>0.431</td><td>0.000</td><td>4.277</td><td>27</td><td> 77</td><td>1</td></tr>\n",
       "</tbody>\n",
       "</table>\n"
      ],
      "text/latex": [
       "A data.frame: 6 × 58\n",
       "\\begin{tabular}{r|lllllllllllllllllllll}\n",
       "  & V1 & V2 & V3 & V4 & V5 & V6 & V7 & V8 & V9 & V10 & ⋯ & V49 & V50 & V51 & V52 & V53 & V54 & V55 & V56 & V57 & V58\\\\\n",
       "  & <dbl> & <dbl> & <dbl> & <dbl> & <dbl> & <dbl> & <dbl> & <dbl> & <dbl> & <dbl> & ⋯ & <dbl> & <dbl> & <dbl> & <dbl> & <dbl> & <dbl> & <dbl> & <int> & <int> & <fct>\\\\\n",
       "\\hline\n",
       "\t3254 & 0.00 & 0 & 0.00 & 0 & 0.0 & 0.00 & 0.00 & 0.0 & 0.00 & 0.00 & ⋯ & 0 & 0.000 & 1.176 & 0.000 & 0.000 & 0.000 & 2.142 &  8 &  15 & 0\\\\\n",
       "\t1560 & 0.32 & 0 & 0.80 & 0 & 0.8 & 0.32 & 0.16 & 0.0 & 0.64 & 0.00 & ⋯ & 0 & 0.050 & 0.000 & 0.050 & 0.075 & 0.000 & 1.419 & 15 & 159 & 1\\\\\n",
       "\t621 & 0.00 & 0 & 0.00 & 0 & 0.0 & 0.00 & 0.00 & 0.0 & 0.00 & 0.00 & ⋯ & 0 & 0.000 & 0.000 & 0.125 & 0.000 & 1.126 & 7.054 & 37 & 261 & 1\\\\\n",
       "\t1460 & 0.70 & 0 & 1.05 & 0 & 0.0 & 0.00 & 0.00 & 1.4 & 0.35 & 0.35 & ⋯ & 0 & 0.116 & 0.000 & 0.348 & 0.000 & 0.000 & 1.166 & 13 & 189 & 1\\\\\n",
       "\t3199 & 0.00 & 0 & 0.00 & 0 & 0.0 & 0.00 & 0.00 & 0.0 & 0.00 & 0.00 & ⋯ & 0 & 0.000 & 0.000 & 0.000 & 0.000 & 0.000 & 1.000 &  1 &   6 & 0\\\\\n",
       "\t146 & 0.00 & 0 & 0.00 & 0 & 0.0 & 0.00 & 0.00 & 0.0 & 0.00 & 0.00 & ⋯ & 0 & 0.215 & 0.000 & 0.215 & 0.431 & 0.000 & 4.277 & 27 &  77 & 1\\\\\n",
       "\\end{tabular}\n"
      ],
      "text/markdown": [
       "\n",
       "A data.frame: 6 × 58\n",
       "\n",
       "| <!--/--> | V1 &lt;dbl&gt; | V2 &lt;dbl&gt; | V3 &lt;dbl&gt; | V4 &lt;dbl&gt; | V5 &lt;dbl&gt; | V6 &lt;dbl&gt; | V7 &lt;dbl&gt; | V8 &lt;dbl&gt; | V9 &lt;dbl&gt; | V10 &lt;dbl&gt; | ⋯ ⋯ | V49 &lt;dbl&gt; | V50 &lt;dbl&gt; | V51 &lt;dbl&gt; | V52 &lt;dbl&gt; | V53 &lt;dbl&gt; | V54 &lt;dbl&gt; | V55 &lt;dbl&gt; | V56 &lt;int&gt; | V57 &lt;int&gt; | V58 &lt;fct&gt; |\n",
       "|---|---|---|---|---|---|---|---|---|---|---|---|---|---|---|---|---|---|---|---|---|---|\n",
       "| 3254 | 0.00 | 0 | 0.00 | 0 | 0.0 | 0.00 | 0.00 | 0.0 | 0.00 | 0.00 | ⋯ | 0 | 0.000 | 1.176 | 0.000 | 0.000 | 0.000 | 2.142 |  8 |  15 | 0 |\n",
       "| 1560 | 0.32 | 0 | 0.80 | 0 | 0.8 | 0.32 | 0.16 | 0.0 | 0.64 | 0.00 | ⋯ | 0 | 0.050 | 0.000 | 0.050 | 0.075 | 0.000 | 1.419 | 15 | 159 | 1 |\n",
       "| 621 | 0.00 | 0 | 0.00 | 0 | 0.0 | 0.00 | 0.00 | 0.0 | 0.00 | 0.00 | ⋯ | 0 | 0.000 | 0.000 | 0.125 | 0.000 | 1.126 | 7.054 | 37 | 261 | 1 |\n",
       "| 1460 | 0.70 | 0 | 1.05 | 0 | 0.0 | 0.00 | 0.00 | 1.4 | 0.35 | 0.35 | ⋯ | 0 | 0.116 | 0.000 | 0.348 | 0.000 | 0.000 | 1.166 | 13 | 189 | 1 |\n",
       "| 3199 | 0.00 | 0 | 0.00 | 0 | 0.0 | 0.00 | 0.00 | 0.0 | 0.00 | 0.00 | ⋯ | 0 | 0.000 | 0.000 | 0.000 | 0.000 | 0.000 | 1.000 |  1 |   6 | 0 |\n",
       "| 146 | 0.00 | 0 | 0.00 | 0 | 0.0 | 0.00 | 0.00 | 0.0 | 0.00 | 0.00 | ⋯ | 0 | 0.215 | 0.000 | 0.215 | 0.431 | 0.000 | 4.277 | 27 |  77 | 1 |\n",
       "\n"
      ],
      "text/plain": [
       "     V1   V2 V3   V4 V5  V6   V7   V8  V9   V10  ⋯ V49 V50   V51   V52   V53  \n",
       "3254 0.00 0  0.00 0  0.0 0.00 0.00 0.0 0.00 0.00 ⋯ 0   0.000 1.176 0.000 0.000\n",
       "1560 0.32 0  0.80 0  0.8 0.32 0.16 0.0 0.64 0.00 ⋯ 0   0.050 0.000 0.050 0.075\n",
       "621  0.00 0  0.00 0  0.0 0.00 0.00 0.0 0.00 0.00 ⋯ 0   0.000 0.000 0.125 0.000\n",
       "1460 0.70 0  1.05 0  0.0 0.00 0.00 1.4 0.35 0.35 ⋯ 0   0.116 0.000 0.348 0.000\n",
       "3199 0.00 0  0.00 0  0.0 0.00 0.00 0.0 0.00 0.00 ⋯ 0   0.000 0.000 0.000 0.000\n",
       "146  0.00 0  0.00 0  0.0 0.00 0.00 0.0 0.00 0.00 ⋯ 0   0.215 0.000 0.215 0.431\n",
       "     V54   V55   V56 V57 V58\n",
       "3254 0.000 2.142  8   15 0  \n",
       "1560 0.000 1.419 15  159 1  \n",
       "621  1.126 7.054 37  261 1  \n",
       "1460 0.000 1.166 13  189 1  \n",
       "3199 0.000 1.000  1    6 0  \n",
       "146  0.000 4.277 27   77 1  "
      ]
     },
     "metadata": {},
     "output_type": "display_data"
    },
    {
     "data": {
      "text/html": [
       "<table class=\"dataframe\">\n",
       "<caption>A data.frame: 6 × 58</caption>\n",
       "<thead>\n",
       "\t<tr><th></th><th scope=col>V1</th><th scope=col>V2</th><th scope=col>V3</th><th scope=col>V4</th><th scope=col>V5</th><th scope=col>V6</th><th scope=col>V7</th><th scope=col>V8</th><th scope=col>V9</th><th scope=col>V10</th><th scope=col>⋯</th><th scope=col>V49</th><th scope=col>V50</th><th scope=col>V51</th><th scope=col>V52</th><th scope=col>V53</th><th scope=col>V54</th><th scope=col>V55</th><th scope=col>V56</th><th scope=col>V57</th><th scope=col>V58</th></tr>\n",
       "\t<tr><th></th><th scope=col>&lt;dbl&gt;</th><th scope=col>&lt;dbl&gt;</th><th scope=col>&lt;dbl&gt;</th><th scope=col>&lt;dbl&gt;</th><th scope=col>&lt;dbl&gt;</th><th scope=col>&lt;dbl&gt;</th><th scope=col>&lt;dbl&gt;</th><th scope=col>&lt;dbl&gt;</th><th scope=col>&lt;dbl&gt;</th><th scope=col>&lt;dbl&gt;</th><th scope=col>⋯</th><th scope=col>&lt;dbl&gt;</th><th scope=col>&lt;dbl&gt;</th><th scope=col>&lt;dbl&gt;</th><th scope=col>&lt;dbl&gt;</th><th scope=col>&lt;dbl&gt;</th><th scope=col>&lt;dbl&gt;</th><th scope=col>&lt;dbl&gt;</th><th scope=col>&lt;int&gt;</th><th scope=col>&lt;int&gt;</th><th scope=col>&lt;fct&gt;</th></tr>\n",
       "</thead>\n",
       "<tbody>\n",
       "\t<tr><th scope=row>2</th><td>0.21</td><td>0.28</td><td>0.50</td><td>0</td><td>0.14</td><td>0.28</td><td>0.21</td><td>0.07</td><td>0.00</td><td>0.94</td><td>⋯</td><td>0.000</td><td>0.132</td><td>0.000</td><td>0.372</td><td>0.180</td><td>0.048</td><td>5.114</td><td>101</td><td>1028</td><td>1</td></tr>\n",
       "\t<tr><th scope=row>8</th><td>0.00</td><td>0.00</td><td>0.00</td><td>0</td><td>1.88</td><td>0.00</td><td>0.00</td><td>1.88</td><td>0.00</td><td>0.00</td><td>⋯</td><td>0.000</td><td>0.206</td><td>0.000</td><td>0.000</td><td>0.000</td><td>0.000</td><td>2.450</td><td> 11</td><td>  49</td><td>1</td></tr>\n",
       "\t<tr><th scope=row>17</th><td>0.00</td><td>0.00</td><td>0.00</td><td>0</td><td>0.94</td><td>0.00</td><td>0.00</td><td>0.00</td><td>0.00</td><td>0.00</td><td>⋯</td><td>0.000</td><td>0.000</td><td>0.000</td><td>0.428</td><td>0.000</td><td>0.000</td><td>4.652</td><td> 31</td><td> 107</td><td>1</td></tr>\n",
       "\t<tr><th scope=row>19</th><td>0.00</td><td>0.00</td><td>0.55</td><td>0</td><td>1.11</td><td>0.00</td><td>0.18</td><td>0.00</td><td>0.00</td><td>0.00</td><td>⋯</td><td>0.000</td><td>0.182</td><td>0.000</td><td>0.455</td><td>0.000</td><td>0.000</td><td>1.320</td><td>  4</td><td>  70</td><td>1</td></tr>\n",
       "\t<tr><th scope=row>21</th><td>0.00</td><td>0.00</td><td>0.00</td><td>0</td><td>0.00</td><td>0.00</td><td>0.00</td><td>0.00</td><td>0.00</td><td>0.00</td><td>⋯</td><td>0.000</td><td>0.729</td><td>0.000</td><td>0.729</td><td>0.000</td><td>0.000</td><td>3.833</td><td>  9</td><td>  23</td><td>1</td></tr>\n",
       "\t<tr><th scope=row>22</th><td>0.05</td><td>0.07</td><td>0.10</td><td>0</td><td>0.76</td><td>0.05</td><td>0.15</td><td>0.02</td><td>0.55</td><td>0.00</td><td>⋯</td><td>0.042</td><td>0.101</td><td>0.016</td><td>0.250</td><td>0.046</td><td>0.059</td><td>2.569</td><td> 66</td><td>2259</td><td>1</td></tr>\n",
       "</tbody>\n",
       "</table>\n"
      ],
      "text/latex": [
       "A data.frame: 6 × 58\n",
       "\\begin{tabular}{r|lllllllllllllllllllll}\n",
       "  & V1 & V2 & V3 & V4 & V5 & V6 & V7 & V8 & V9 & V10 & ⋯ & V49 & V50 & V51 & V52 & V53 & V54 & V55 & V56 & V57 & V58\\\\\n",
       "  & <dbl> & <dbl> & <dbl> & <dbl> & <dbl> & <dbl> & <dbl> & <dbl> & <dbl> & <dbl> & ⋯ & <dbl> & <dbl> & <dbl> & <dbl> & <dbl> & <dbl> & <dbl> & <int> & <int> & <fct>\\\\\n",
       "\\hline\n",
       "\t2 & 0.21 & 0.28 & 0.50 & 0 & 0.14 & 0.28 & 0.21 & 0.07 & 0.00 & 0.94 & ⋯ & 0.000 & 0.132 & 0.000 & 0.372 & 0.180 & 0.048 & 5.114 & 101 & 1028 & 1\\\\\n",
       "\t8 & 0.00 & 0.00 & 0.00 & 0 & 1.88 & 0.00 & 0.00 & 1.88 & 0.00 & 0.00 & ⋯ & 0.000 & 0.206 & 0.000 & 0.000 & 0.000 & 0.000 & 2.450 &  11 &   49 & 1\\\\\n",
       "\t17 & 0.00 & 0.00 & 0.00 & 0 & 0.94 & 0.00 & 0.00 & 0.00 & 0.00 & 0.00 & ⋯ & 0.000 & 0.000 & 0.000 & 0.428 & 0.000 & 0.000 & 4.652 &  31 &  107 & 1\\\\\n",
       "\t19 & 0.00 & 0.00 & 0.55 & 0 & 1.11 & 0.00 & 0.18 & 0.00 & 0.00 & 0.00 & ⋯ & 0.000 & 0.182 & 0.000 & 0.455 & 0.000 & 0.000 & 1.320 &   4 &   70 & 1\\\\\n",
       "\t21 & 0.00 & 0.00 & 0.00 & 0 & 0.00 & 0.00 & 0.00 & 0.00 & 0.00 & 0.00 & ⋯ & 0.000 & 0.729 & 0.000 & 0.729 & 0.000 & 0.000 & 3.833 &   9 &   23 & 1\\\\\n",
       "\t22 & 0.05 & 0.07 & 0.10 & 0 & 0.76 & 0.05 & 0.15 & 0.02 & 0.55 & 0.00 & ⋯ & 0.042 & 0.101 & 0.016 & 0.250 & 0.046 & 0.059 & 2.569 &  66 & 2259 & 1\\\\\n",
       "\\end{tabular}\n"
      ],
      "text/markdown": [
       "\n",
       "A data.frame: 6 × 58\n",
       "\n",
       "| <!--/--> | V1 &lt;dbl&gt; | V2 &lt;dbl&gt; | V3 &lt;dbl&gt; | V4 &lt;dbl&gt; | V5 &lt;dbl&gt; | V6 &lt;dbl&gt; | V7 &lt;dbl&gt; | V8 &lt;dbl&gt; | V9 &lt;dbl&gt; | V10 &lt;dbl&gt; | ⋯ ⋯ | V49 &lt;dbl&gt; | V50 &lt;dbl&gt; | V51 &lt;dbl&gt; | V52 &lt;dbl&gt; | V53 &lt;dbl&gt; | V54 &lt;dbl&gt; | V55 &lt;dbl&gt; | V56 &lt;int&gt; | V57 &lt;int&gt; | V58 &lt;fct&gt; |\n",
       "|---|---|---|---|---|---|---|---|---|---|---|---|---|---|---|---|---|---|---|---|---|---|\n",
       "| 2 | 0.21 | 0.28 | 0.50 | 0 | 0.14 | 0.28 | 0.21 | 0.07 | 0.00 | 0.94 | ⋯ | 0.000 | 0.132 | 0.000 | 0.372 | 0.180 | 0.048 | 5.114 | 101 | 1028 | 1 |\n",
       "| 8 | 0.00 | 0.00 | 0.00 | 0 | 1.88 | 0.00 | 0.00 | 1.88 | 0.00 | 0.00 | ⋯ | 0.000 | 0.206 | 0.000 | 0.000 | 0.000 | 0.000 | 2.450 |  11 |   49 | 1 |\n",
       "| 17 | 0.00 | 0.00 | 0.00 | 0 | 0.94 | 0.00 | 0.00 | 0.00 | 0.00 | 0.00 | ⋯ | 0.000 | 0.000 | 0.000 | 0.428 | 0.000 | 0.000 | 4.652 |  31 |  107 | 1 |\n",
       "| 19 | 0.00 | 0.00 | 0.55 | 0 | 1.11 | 0.00 | 0.18 | 0.00 | 0.00 | 0.00 | ⋯ | 0.000 | 0.182 | 0.000 | 0.455 | 0.000 | 0.000 | 1.320 |   4 |   70 | 1 |\n",
       "| 21 | 0.00 | 0.00 | 0.00 | 0 | 0.00 | 0.00 | 0.00 | 0.00 | 0.00 | 0.00 | ⋯ | 0.000 | 0.729 | 0.000 | 0.729 | 0.000 | 0.000 | 3.833 |   9 |   23 | 1 |\n",
       "| 22 | 0.05 | 0.07 | 0.10 | 0 | 0.76 | 0.05 | 0.15 | 0.02 | 0.55 | 0.00 | ⋯ | 0.042 | 0.101 | 0.016 | 0.250 | 0.046 | 0.059 | 2.569 |  66 | 2259 | 1 |\n",
       "\n"
      ],
      "text/plain": [
       "   V1   V2   V3   V4 V5   V6   V7   V8   V9   V10  ⋯ V49   V50   V51   V52  \n",
       "2  0.21 0.28 0.50 0  0.14 0.28 0.21 0.07 0.00 0.94 ⋯ 0.000 0.132 0.000 0.372\n",
       "8  0.00 0.00 0.00 0  1.88 0.00 0.00 1.88 0.00 0.00 ⋯ 0.000 0.206 0.000 0.000\n",
       "17 0.00 0.00 0.00 0  0.94 0.00 0.00 0.00 0.00 0.00 ⋯ 0.000 0.000 0.000 0.428\n",
       "19 0.00 0.00 0.55 0  1.11 0.00 0.18 0.00 0.00 0.00 ⋯ 0.000 0.182 0.000 0.455\n",
       "21 0.00 0.00 0.00 0  0.00 0.00 0.00 0.00 0.00 0.00 ⋯ 0.000 0.729 0.000 0.729\n",
       "22 0.05 0.07 0.10 0  0.76 0.05 0.15 0.02 0.55 0.00 ⋯ 0.042 0.101 0.016 0.250\n",
       "   V53   V54   V55   V56 V57  V58\n",
       "2  0.180 0.048 5.114 101 1028 1  \n",
       "8  0.000 0.000 2.450  11   49 1  \n",
       "17 0.000 0.000 4.652  31  107 1  \n",
       "19 0.000 0.000 1.320   4   70 1  \n",
       "21 0.000 0.000 3.833   9   23 1  \n",
       "22 0.046 0.059 2.569  66 2259 1  "
      ]
     },
     "metadata": {},
     "output_type": "display_data"
    }
   ],
   "source": [
    "#splitting train and test\n",
    "training <- spam_data[train_in  ,]\n",
    "head(training)\n",
    "testing  <- spam_data[-train_in ,]\n",
    "head(testing)"
   ]
  },
  {
   "cell_type": "code",
   "execution_count": 28,
   "id": "2b27547e",
   "metadata": {},
   "outputs": [
    {
     "data": {
      "text/html": [
       "0.394230769230769"
      ],
      "text/latex": [
       "0.394230769230769"
      ],
      "text/markdown": [
       "0.394230769230769"
      ],
      "text/plain": [
       "[1] 0.3942308"
      ]
     },
     "metadata": {},
     "output_type": "display_data"
    },
    {
     "data": {
      "text/html": [
       "0.393803098450775"
      ],
      "text/latex": [
       "0.393803098450775"
      ],
      "text/markdown": [
       "0.393803098450775"
      ],
      "text/plain": [
       "[1] 0.3938031"
      ]
     },
     "metadata": {},
     "output_type": "display_data"
    }
   ],
   "source": [
    "training_fra <- nrow(subset(training,V58 == 1))/nrow(training)\n",
    "training_fra\n",
    "\n",
    "testing_fra <- nrow(subset(testing,V58 == 1))/nrow(testing)\n",
    "testing_fra"
   ]
  },
  {
   "cell_type": "code",
   "execution_count": 29,
   "id": "bcc7a532",
   "metadata": {},
   "outputs": [],
   "source": [
    "#training random forest\n",
    "\n",
    "m.var <- c(1:37)\n",
    "\n",
    "error <- function(var){\n",
    "  n = length(var)\n",
    "  obb_error = rep(0,n)\n",
    "  test_error = rep(0,n)\n",
    "    \n",
    "    for(i in var){\n",
    "    forest <- randomForest(as.factor(V58) ~ .,data = training, mtry = i, ntree = 100)\n",
    "    predic <- predict(forest, newdata = testing)\n",
    "    obb_error[i] <- mean((forest$predicted != training$V58)^2)\n",
    "    test_error[i] <- mean((predic != testing$V58)^2)\n",
    "  }\n",
    "  return(data.frame(obb = obb_error,test_err = test_error))\n",
    "}"
   ]
  },
  {
   "cell_type": "code",
   "execution_count": 30,
   "id": "b16781cd",
   "metadata": {},
   "outputs": [],
   "source": [
    "r_errors <- error(m.var)"
   ]
  },
  {
   "cell_type": "code",
   "execution_count": 31,
   "id": "7a2bcbd8",
   "metadata": {},
   "outputs": [
    {
     "data": {
      "text/html": [
       "3"
      ],
      "text/latex": [
       "3"
      ],
      "text/markdown": [
       "3"
      ],
      "text/plain": [
       "[1] 3"
      ]
     },
     "metadata": {},
     "output_type": "display_data"
    },
    {
     "data": {
      "image/png": "[encoded data removed]",
      "text/plain": [
       "plot without title"
      ]
     },
     "metadata": {
      "image/png": {
       "height": 420,
       "width": 420
      }
     },
     "output_type": "display_data"
    }
   ],
   "source": [
    "#plotting obb error\n",
    "plot(m.var, r_errors$obb, xlab = \"Variables\", ylab = \"OBB Errors\")\n",
    "\n",
    "obb_opt <- m.var[which.min(r_errors$obb)]\n",
    "obb_opt"
   ]
  },
  {
   "cell_type": "code",
   "execution_count": 32,
   "id": "388d441a",
   "metadata": {},
   "outputs": [
    {
     "data": {
      "text/html": [
       "4"
      ],
      "text/latex": [
       "4"
      ],
      "text/markdown": [
       "4"
      ],
      "text/plain": [
       "[1] 4"
      ]
     },
     "metadata": {},
     "output_type": "display_data"
    },
    {
     "data": {
      "image/png": "[encoded data removed]",
      "text/plain": [
       "plot without title"
      ]
     },
     "metadata": {
      "image/png": {
       "height": 420,
       "width": 420
      }
     },
     "output_type": "display_data"
    }
   ],
   "source": [
    "#plotting test error\n",
    "plot(m.var, r_errors$test_err, xlab = \"Variables\", ylab = \"Test Errors\")\n",
    "\n",
    "test_opt <- m.var[which.min(r_errors$test_err)]\n",
    "test_opt"
   ]
  },
  {
   "cell_type": "code",
   "execution_count": 33,
   "id": "f180f712",
   "metadata": {},
   "outputs": [
    {
     "data": {
      "text/html": [
       "0.0544727636181909"
      ],
      "text/latex": [
       "0.0544727636181909"
      ],
      "text/markdown": [
       "0.0544727636181909"
      ],
      "text/plain": [
       "[1] 0.05447276"
      ]
     },
     "metadata": {},
     "output_type": "display_data"
    }
   ],
   "source": [
    "forest_err <- min(r_errors$test_err)\n",
    "forest_err"
   ]
  },
  {
   "cell_type": "code",
   "execution_count": null,
   "id": "e2ec03e3",
   "metadata": {},
   "outputs": [],
   "source": []
  },
  {
   "cell_type": "markdown",
   "id": "47fcee88",
   "metadata": {},
   "source": [
    "### Q4.  This problem involves the OJ data set which is part of the ISLR2 package. "
   ]
  },
  {
   "cell_type": "code",
   "execution_count": 39,
   "id": "fb51d391",
   "metadata": {},
   "outputs": [],
   "source": [
    "library(ISLR)\n",
    "\n",
    "#LOADING OJ DATA\n",
    "data('OJ')"
   ]
  },
  {
   "cell_type": "code",
   "execution_count": 41,
   "id": "515045b7",
   "metadata": {},
   "outputs": [],
   "source": [
    "#saving the data in oj_data\n",
    "oj_data <- OJ"
   ]
  },
  {
   "cell_type": "code",
   "execution_count": 72,
   "id": "c60194f4",
   "metadata": {},
   "outputs": [],
   "source": [
    "set.seed(37)"
   ]
  },
  {
   "cell_type": "code",
   "execution_count": 73,
   "id": "b809bb83",
   "metadata": {},
   "outputs": [
    {
     "data": {
      "text/html": [
       "<table class=\"dataframe\">\n",
       "<caption>A data.frame: 6 × 18</caption>\n",
       "<thead>\n",
       "\t<tr><th></th><th scope=col>Purchase</th><th scope=col>WeekofPurchase</th><th scope=col>StoreID</th><th scope=col>PriceCH</th><th scope=col>PriceMM</th><th scope=col>DiscCH</th><th scope=col>DiscMM</th><th scope=col>SpecialCH</th><th scope=col>SpecialMM</th><th scope=col>LoyalCH</th><th scope=col>SalePriceMM</th><th scope=col>SalePriceCH</th><th scope=col>PriceDiff</th><th scope=col>Store7</th><th scope=col>PctDiscMM</th><th scope=col>PctDiscCH</th><th scope=col>ListPriceDiff</th><th scope=col>STORE</th></tr>\n",
       "\t<tr><th></th><th scope=col>&lt;fct&gt;</th><th scope=col>&lt;dbl&gt;</th><th scope=col>&lt;dbl&gt;</th><th scope=col>&lt;dbl&gt;</th><th scope=col>&lt;dbl&gt;</th><th scope=col>&lt;dbl&gt;</th><th scope=col>&lt;dbl&gt;</th><th scope=col>&lt;dbl&gt;</th><th scope=col>&lt;dbl&gt;</th><th scope=col>&lt;dbl&gt;</th><th scope=col>&lt;dbl&gt;</th><th scope=col>&lt;dbl&gt;</th><th scope=col>&lt;dbl&gt;</th><th scope=col>&lt;fct&gt;</th><th scope=col>&lt;dbl&gt;</th><th scope=col>&lt;dbl&gt;</th><th scope=col>&lt;dbl&gt;</th><th scope=col>&lt;dbl&gt;</th></tr>\n",
       "</thead>\n",
       "<tbody>\n",
       "\t<tr><th scope=row>1</th><td>CH</td><td>237</td><td>1</td><td>1.75</td><td>1.99</td><td>0.00</td><td>0.0</td><td>0</td><td>0</td><td>0.500000</td><td>1.99</td><td>1.75</td><td> 0.24</td><td>No </td><td>0.000000</td><td>0.000000</td><td>0.24</td><td>1</td></tr>\n",
       "\t<tr><th scope=row>2</th><td>CH</td><td>239</td><td>1</td><td>1.75</td><td>1.99</td><td>0.00</td><td>0.3</td><td>0</td><td>1</td><td>0.600000</td><td>1.69</td><td>1.75</td><td>-0.06</td><td>No </td><td>0.150754</td><td>0.000000</td><td>0.24</td><td>1</td></tr>\n",
       "\t<tr><th scope=row>3</th><td>CH</td><td>245</td><td>1</td><td>1.86</td><td>2.09</td><td>0.17</td><td>0.0</td><td>0</td><td>0</td><td>0.680000</td><td>2.09</td><td>1.69</td><td> 0.40</td><td>No </td><td>0.000000</td><td>0.091398</td><td>0.23</td><td>1</td></tr>\n",
       "\t<tr><th scope=row>4</th><td>MM</td><td>227</td><td>1</td><td>1.69</td><td>1.69</td><td>0.00</td><td>0.0</td><td>0</td><td>0</td><td>0.400000</td><td>1.69</td><td>1.69</td><td> 0.00</td><td>No </td><td>0.000000</td><td>0.000000</td><td>0.00</td><td>1</td></tr>\n",
       "\t<tr><th scope=row>5</th><td>CH</td><td>228</td><td>7</td><td>1.69</td><td>1.69</td><td>0.00</td><td>0.0</td><td>0</td><td>0</td><td>0.956535</td><td>1.69</td><td>1.69</td><td> 0.00</td><td>Yes</td><td>0.000000</td><td>0.000000</td><td>0.00</td><td>0</td></tr>\n",
       "\t<tr><th scope=row>6</th><td>CH</td><td>230</td><td>7</td><td>1.69</td><td>1.99</td><td>0.00</td><td>0.0</td><td>0</td><td>1</td><td>0.965228</td><td>1.99</td><td>1.69</td><td> 0.30</td><td>Yes</td><td>0.000000</td><td>0.000000</td><td>0.30</td><td>0</td></tr>\n",
       "</tbody>\n",
       "</table>\n"
      ],
      "text/latex": [
       "A data.frame: 6 × 18\n",
       "\\begin{tabular}{r|llllllllllllllllll}\n",
       "  & Purchase & WeekofPurchase & StoreID & PriceCH & PriceMM & DiscCH & DiscMM & SpecialCH & SpecialMM & LoyalCH & SalePriceMM & SalePriceCH & PriceDiff & Store7 & PctDiscMM & PctDiscCH & ListPriceDiff & STORE\\\\\n",
       "  & <fct> & <dbl> & <dbl> & <dbl> & <dbl> & <dbl> & <dbl> & <dbl> & <dbl> & <dbl> & <dbl> & <dbl> & <dbl> & <fct> & <dbl> & <dbl> & <dbl> & <dbl>\\\\\n",
       "\\hline\n",
       "\t1 & CH & 237 & 1 & 1.75 & 1.99 & 0.00 & 0.0 & 0 & 0 & 0.500000 & 1.99 & 1.75 &  0.24 & No  & 0.000000 & 0.000000 & 0.24 & 1\\\\\n",
       "\t2 & CH & 239 & 1 & 1.75 & 1.99 & 0.00 & 0.3 & 0 & 1 & 0.600000 & 1.69 & 1.75 & -0.06 & No  & 0.150754 & 0.000000 & 0.24 & 1\\\\\n",
       "\t3 & CH & 245 & 1 & 1.86 & 2.09 & 0.17 & 0.0 & 0 & 0 & 0.680000 & 2.09 & 1.69 &  0.40 & No  & 0.000000 & 0.091398 & 0.23 & 1\\\\\n",
       "\t4 & MM & 227 & 1 & 1.69 & 1.69 & 0.00 & 0.0 & 0 & 0 & 0.400000 & 1.69 & 1.69 &  0.00 & No  & 0.000000 & 0.000000 & 0.00 & 1\\\\\n",
       "\t5 & CH & 228 & 7 & 1.69 & 1.69 & 0.00 & 0.0 & 0 & 0 & 0.956535 & 1.69 & 1.69 &  0.00 & Yes & 0.000000 & 0.000000 & 0.00 & 0\\\\\n",
       "\t6 & CH & 230 & 7 & 1.69 & 1.99 & 0.00 & 0.0 & 0 & 1 & 0.965228 & 1.99 & 1.69 &  0.30 & Yes & 0.000000 & 0.000000 & 0.30 & 0\\\\\n",
       "\\end{tabular}\n"
      ],
      "text/markdown": [
       "\n",
       "A data.frame: 6 × 18\n",
       "\n",
       "| <!--/--> | Purchase &lt;fct&gt; | WeekofPurchase &lt;dbl&gt; | StoreID &lt;dbl&gt; | PriceCH &lt;dbl&gt; | PriceMM &lt;dbl&gt; | DiscCH &lt;dbl&gt; | DiscMM &lt;dbl&gt; | SpecialCH &lt;dbl&gt; | SpecialMM &lt;dbl&gt; | LoyalCH &lt;dbl&gt; | SalePriceMM &lt;dbl&gt; | SalePriceCH &lt;dbl&gt; | PriceDiff &lt;dbl&gt; | Store7 &lt;fct&gt; | PctDiscMM &lt;dbl&gt; | PctDiscCH &lt;dbl&gt; | ListPriceDiff &lt;dbl&gt; | STORE &lt;dbl&gt; |\n",
       "|---|---|---|---|---|---|---|---|---|---|---|---|---|---|---|---|---|---|---|\n",
       "| 1 | CH | 237 | 1 | 1.75 | 1.99 | 0.00 | 0.0 | 0 | 0 | 0.500000 | 1.99 | 1.75 |  0.24 | No  | 0.000000 | 0.000000 | 0.24 | 1 |\n",
       "| 2 | CH | 239 | 1 | 1.75 | 1.99 | 0.00 | 0.3 | 0 | 1 | 0.600000 | 1.69 | 1.75 | -0.06 | No  | 0.150754 | 0.000000 | 0.24 | 1 |\n",
       "| 3 | CH | 245 | 1 | 1.86 | 2.09 | 0.17 | 0.0 | 0 | 0 | 0.680000 | 2.09 | 1.69 |  0.40 | No  | 0.000000 | 0.091398 | 0.23 | 1 |\n",
       "| 4 | MM | 227 | 1 | 1.69 | 1.69 | 0.00 | 0.0 | 0 | 0 | 0.400000 | 1.69 | 1.69 |  0.00 | No  | 0.000000 | 0.000000 | 0.00 | 1 |\n",
       "| 5 | CH | 228 | 7 | 1.69 | 1.69 | 0.00 | 0.0 | 0 | 0 | 0.956535 | 1.69 | 1.69 |  0.00 | Yes | 0.000000 | 0.000000 | 0.00 | 0 |\n",
       "| 6 | CH | 230 | 7 | 1.69 | 1.99 | 0.00 | 0.0 | 0 | 1 | 0.965228 | 1.99 | 1.69 |  0.30 | Yes | 0.000000 | 0.000000 | 0.30 | 0 |\n",
       "\n"
      ],
      "text/plain": [
       "  Purchase WeekofPurchase StoreID PriceCH PriceMM DiscCH DiscMM SpecialCH\n",
       "1 CH       237            1       1.75    1.99    0.00   0.0    0        \n",
       "2 CH       239            1       1.75    1.99    0.00   0.3    0        \n",
       "3 CH       245            1       1.86    2.09    0.17   0.0    0        \n",
       "4 MM       227            1       1.69    1.69    0.00   0.0    0        \n",
       "5 CH       228            7       1.69    1.69    0.00   0.0    0        \n",
       "6 CH       230            7       1.69    1.99    0.00   0.0    0        \n",
       "  SpecialMM LoyalCH  SalePriceMM SalePriceCH PriceDiff Store7 PctDiscMM\n",
       "1 0         0.500000 1.99        1.75         0.24     No     0.000000 \n",
       "2 1         0.600000 1.69        1.75        -0.06     No     0.150754 \n",
       "3 0         0.680000 2.09        1.69         0.40     No     0.000000 \n",
       "4 0         0.400000 1.69        1.69         0.00     No     0.000000 \n",
       "5 0         0.956535 1.69        1.69         0.00     Yes    0.000000 \n",
       "6 1         0.965228 1.99        1.69         0.30     Yes    0.000000 \n",
       "  PctDiscCH ListPriceDiff STORE\n",
       "1 0.000000  0.24          1    \n",
       "2 0.000000  0.24          1    \n",
       "3 0.091398  0.23          1    \n",
       "4 0.000000  0.00          1    \n",
       "5 0.000000  0.00          0    \n",
       "6 0.000000  0.30          0    "
      ]
     },
     "metadata": {},
     "output_type": "display_data"
    },
    {
     "data": {
      "text/html": [
       "<style>\n",
       ".list-inline {list-style: none; margin:0; padding: 0}\n",
       ".list-inline>li {display: inline-block}\n",
       ".list-inline>li:not(:last-child)::after {content: \"\\00b7\"; padding: 0 .5ex}\n",
       "</style>\n",
       "<ol class=list-inline><li>1070</li><li>18</li></ol>\n"
      ],
      "text/latex": [
       "\\begin{enumerate*}\n",
       "\\item 1070\n",
       "\\item 18\n",
       "\\end{enumerate*}\n"
      ],
      "text/markdown": [
       "1. 1070\n",
       "2. 18\n",
       "\n",
       "\n"
      ],
      "text/plain": [
       "[1] 1070   18"
      ]
     },
     "metadata": {},
     "output_type": "display_data"
    }
   ],
   "source": [
    "#observing the data\n",
    "head(oj_data)\n",
    "dim(oj_data)"
   ]
  },
  {
   "cell_type": "code",
   "execution_count": 74,
   "id": "8d40a90c",
   "metadata": {},
   "outputs": [
    {
     "data": {
      "text/plain": [
       " Purchase WeekofPurchase     StoreID        PriceCH         PriceMM     \n",
       " CH:653   Min.   :227.0   Min.   :1.00   Min.   :1.690   Min.   :1.690  \n",
       " MM:417   1st Qu.:240.0   1st Qu.:2.00   1st Qu.:1.790   1st Qu.:1.990  \n",
       "          Median :257.0   Median :3.00   Median :1.860   Median :2.090  \n",
       "          Mean   :254.4   Mean   :3.96   Mean   :1.867   Mean   :2.085  \n",
       "          3rd Qu.:268.0   3rd Qu.:7.00   3rd Qu.:1.990   3rd Qu.:2.180  \n",
       "          Max.   :278.0   Max.   :7.00   Max.   :2.090   Max.   :2.290  \n",
       "     DiscCH            DiscMM         SpecialCH        SpecialMM     \n",
       " Min.   :0.00000   Min.   :0.0000   Min.   :0.0000   Min.   :0.0000  \n",
       " 1st Qu.:0.00000   1st Qu.:0.0000   1st Qu.:0.0000   1st Qu.:0.0000  \n",
       " Median :0.00000   Median :0.0000   Median :0.0000   Median :0.0000  \n",
       " Mean   :0.05186   Mean   :0.1234   Mean   :0.1477   Mean   :0.1617  \n",
       " 3rd Qu.:0.00000   3rd Qu.:0.2300   3rd Qu.:0.0000   3rd Qu.:0.0000  \n",
       " Max.   :0.50000   Max.   :0.8000   Max.   :1.0000   Max.   :1.0000  \n",
       "    LoyalCH          SalePriceMM     SalePriceCH      PriceDiff       Store7   \n",
       " Min.   :0.000011   Min.   :1.190   Min.   :1.390   Min.   :-0.6700   No :714  \n",
       " 1st Qu.:0.325257   1st Qu.:1.690   1st Qu.:1.750   1st Qu.: 0.0000   Yes:356  \n",
       " Median :0.600000   Median :2.090   Median :1.860   Median : 0.2300            \n",
       " Mean   :0.565782   Mean   :1.962   Mean   :1.816   Mean   : 0.1465            \n",
       " 3rd Qu.:0.850873   3rd Qu.:2.130   3rd Qu.:1.890   3rd Qu.: 0.3200            \n",
       " Max.   :0.999947   Max.   :2.290   Max.   :2.090   Max.   : 0.6400            \n",
       "   PctDiscMM        PctDiscCH       ListPriceDiff       STORE      \n",
       " Min.   :0.0000   Min.   :0.00000   Min.   :0.000   Min.   :0.000  \n",
       " 1st Qu.:0.0000   1st Qu.:0.00000   1st Qu.:0.140   1st Qu.:0.000  \n",
       " Median :0.0000   Median :0.00000   Median :0.240   Median :2.000  \n",
       " Mean   :0.0593   Mean   :0.02731   Mean   :0.218   Mean   :1.631  \n",
       " 3rd Qu.:0.1127   3rd Qu.:0.00000   3rd Qu.:0.300   3rd Qu.:3.000  \n",
       " Max.   :0.4020   Max.   :0.25269   Max.   :0.440   Max.   :4.000  "
      ]
     },
     "metadata": {},
     "output_type": "display_data"
    }
   ],
   "source": [
    "summary(oj_data)"
   ]
  },
  {
   "cell_type": "markdown",
   "id": "3d219b23",
   "metadata": {},
   "source": [
    "#### 4(a) - Create a training set containing a random sample of 800 observations, and a test set containing the remaining observations. "
   ]
  },
  {
   "cell_type": "code",
   "execution_count": 75,
   "id": "2355241e",
   "metadata": {},
   "outputs": [],
   "source": [
    "#creating train and test\n",
    "train_in<-sample(dim(OJ)[1], 800, replace = FALSE)\n",
    "\n",
    "training<-oj_data[train_in,]\n",
    "testing<-oj_data[-train_in,]"
   ]
  },
  {
   "cell_type": "code",
   "execution_count": 76,
   "id": "1ac9d452",
   "metadata": {},
   "outputs": [
    {
     "data": {
      "text/html": [
       "<table class=\"dataframe\">\n",
       "<caption>A data.frame: 6 × 18</caption>\n",
       "<thead>\n",
       "\t<tr><th></th><th scope=col>Purchase</th><th scope=col>WeekofPurchase</th><th scope=col>StoreID</th><th scope=col>PriceCH</th><th scope=col>PriceMM</th><th scope=col>DiscCH</th><th scope=col>DiscMM</th><th scope=col>SpecialCH</th><th scope=col>SpecialMM</th><th scope=col>LoyalCH</th><th scope=col>SalePriceMM</th><th scope=col>SalePriceCH</th><th scope=col>PriceDiff</th><th scope=col>Store7</th><th scope=col>PctDiscMM</th><th scope=col>PctDiscCH</th><th scope=col>ListPriceDiff</th><th scope=col>STORE</th></tr>\n",
       "\t<tr><th></th><th scope=col>&lt;fct&gt;</th><th scope=col>&lt;dbl&gt;</th><th scope=col>&lt;dbl&gt;</th><th scope=col>&lt;dbl&gt;</th><th scope=col>&lt;dbl&gt;</th><th scope=col>&lt;dbl&gt;</th><th scope=col>&lt;dbl&gt;</th><th scope=col>&lt;dbl&gt;</th><th scope=col>&lt;dbl&gt;</th><th scope=col>&lt;dbl&gt;</th><th scope=col>&lt;dbl&gt;</th><th scope=col>&lt;dbl&gt;</th><th scope=col>&lt;dbl&gt;</th><th scope=col>&lt;fct&gt;</th><th scope=col>&lt;dbl&gt;</th><th scope=col>&lt;dbl&gt;</th><th scope=col>&lt;dbl&gt;</th><th scope=col>&lt;dbl&gt;</th></tr>\n",
       "</thead>\n",
       "<tbody>\n",
       "\t<tr><th scope=row>3</th><td>CH</td><td>245</td><td>1</td><td>1.86</td><td>2.09</td><td>0.17</td><td>0.0</td><td>0</td><td>0</td><td>0.680000</td><td>2.09</td><td>1.69</td><td> 0.40</td><td>No </td><td>0.000000</td><td>0.091398</td><td>0.23</td><td>1</td></tr>\n",
       "\t<tr><th scope=row>621</th><td>CH</td><td>269</td><td>7</td><td>1.86</td><td>2.13</td><td>0.27</td><td>0.0</td><td>1</td><td>0</td><td>0.893270</td><td>2.13</td><td>1.59</td><td> 0.54</td><td>Yes</td><td>0.000000</td><td>0.145161</td><td>0.27</td><td>0</td></tr>\n",
       "\t<tr><th scope=row>548</th><td>MM</td><td>235</td><td>2</td><td>1.69</td><td>1.99</td><td>0.00</td><td>0.0</td><td>0</td><td>0</td><td>0.109052</td><td>1.99</td><td>1.69</td><td> 0.30</td><td>No </td><td>0.000000</td><td>0.000000</td><td>0.30</td><td>2</td></tr>\n",
       "\t<tr><th scope=row>1065</th><td>CH</td><td>251</td><td>7</td><td>1.86</td><td>2.09</td><td>0.10</td><td>0.0</td><td>0</td><td>0</td><td>0.484778</td><td>2.09</td><td>1.76</td><td> 0.33</td><td>Yes</td><td>0.000000</td><td>0.053763</td><td>0.23</td><td>0</td></tr>\n",
       "\t<tr><th scope=row>453</th><td>CH</td><td>267</td><td>2</td><td>1.86</td><td>2.18</td><td>0.00</td><td>0.4</td><td>0</td><td>1</td><td>0.484979</td><td>1.78</td><td>1.86</td><td>-0.08</td><td>No </td><td>0.183486</td><td>0.000000</td><td>0.32</td><td>2</td></tr>\n",
       "\t<tr><th scope=row>146</th><td>MM</td><td>233</td><td>7</td><td>1.75</td><td>1.99</td><td>0.00</td><td>0.4</td><td>1</td><td>0</td><td>0.500000</td><td>1.59</td><td>1.75</td><td>-0.16</td><td>Yes</td><td>0.201005</td><td>0.000000</td><td>0.24</td><td>0</td></tr>\n",
       "</tbody>\n",
       "</table>\n"
      ],
      "text/latex": [
       "A data.frame: 6 × 18\n",
       "\\begin{tabular}{r|llllllllllllllllll}\n",
       "  & Purchase & WeekofPurchase & StoreID & PriceCH & PriceMM & DiscCH & DiscMM & SpecialCH & SpecialMM & LoyalCH & SalePriceMM & SalePriceCH & PriceDiff & Store7 & PctDiscMM & PctDiscCH & ListPriceDiff & STORE\\\\\n",
       "  & <fct> & <dbl> & <dbl> & <dbl> & <dbl> & <dbl> & <dbl> & <dbl> & <dbl> & <dbl> & <dbl> & <dbl> & <dbl> & <fct> & <dbl> & <dbl> & <dbl> & <dbl>\\\\\n",
       "\\hline\n",
       "\t3 & CH & 245 & 1 & 1.86 & 2.09 & 0.17 & 0.0 & 0 & 0 & 0.680000 & 2.09 & 1.69 &  0.40 & No  & 0.000000 & 0.091398 & 0.23 & 1\\\\\n",
       "\t621 & CH & 269 & 7 & 1.86 & 2.13 & 0.27 & 0.0 & 1 & 0 & 0.893270 & 2.13 & 1.59 &  0.54 & Yes & 0.000000 & 0.145161 & 0.27 & 0\\\\\n",
       "\t548 & MM & 235 & 2 & 1.69 & 1.99 & 0.00 & 0.0 & 0 & 0 & 0.109052 & 1.99 & 1.69 &  0.30 & No  & 0.000000 & 0.000000 & 0.30 & 2\\\\\n",
       "\t1065 & CH & 251 & 7 & 1.86 & 2.09 & 0.10 & 0.0 & 0 & 0 & 0.484778 & 2.09 & 1.76 &  0.33 & Yes & 0.000000 & 0.053763 & 0.23 & 0\\\\\n",
       "\t453 & CH & 267 & 2 & 1.86 & 2.18 & 0.00 & 0.4 & 0 & 1 & 0.484979 & 1.78 & 1.86 & -0.08 & No  & 0.183486 & 0.000000 & 0.32 & 2\\\\\n",
       "\t146 & MM & 233 & 7 & 1.75 & 1.99 & 0.00 & 0.4 & 1 & 0 & 0.500000 & 1.59 & 1.75 & -0.16 & Yes & 0.201005 & 0.000000 & 0.24 & 0\\\\\n",
       "\\end{tabular}\n"
      ],
      "text/markdown": [
       "\n",
       "A data.frame: 6 × 18\n",
       "\n",
       "| <!--/--> | Purchase &lt;fct&gt; | WeekofPurchase &lt;dbl&gt; | StoreID &lt;dbl&gt; | PriceCH &lt;dbl&gt; | PriceMM &lt;dbl&gt; | DiscCH &lt;dbl&gt; | DiscMM &lt;dbl&gt; | SpecialCH &lt;dbl&gt; | SpecialMM &lt;dbl&gt; | LoyalCH &lt;dbl&gt; | SalePriceMM &lt;dbl&gt; | SalePriceCH &lt;dbl&gt; | PriceDiff &lt;dbl&gt; | Store7 &lt;fct&gt; | PctDiscMM &lt;dbl&gt; | PctDiscCH &lt;dbl&gt; | ListPriceDiff &lt;dbl&gt; | STORE &lt;dbl&gt; |\n",
       "|---|---|---|---|---|---|---|---|---|---|---|---|---|---|---|---|---|---|---|\n",
       "| 3 | CH | 245 | 1 | 1.86 | 2.09 | 0.17 | 0.0 | 0 | 0 | 0.680000 | 2.09 | 1.69 |  0.40 | No  | 0.000000 | 0.091398 | 0.23 | 1 |\n",
       "| 621 | CH | 269 | 7 | 1.86 | 2.13 | 0.27 | 0.0 | 1 | 0 | 0.893270 | 2.13 | 1.59 |  0.54 | Yes | 0.000000 | 0.145161 | 0.27 | 0 |\n",
       "| 548 | MM | 235 | 2 | 1.69 | 1.99 | 0.00 | 0.0 | 0 | 0 | 0.109052 | 1.99 | 1.69 |  0.30 | No  | 0.000000 | 0.000000 | 0.30 | 2 |\n",
       "| 1065 | CH | 251 | 7 | 1.86 | 2.09 | 0.10 | 0.0 | 0 | 0 | 0.484778 | 2.09 | 1.76 |  0.33 | Yes | 0.000000 | 0.053763 | 0.23 | 0 |\n",
       "| 453 | CH | 267 | 2 | 1.86 | 2.18 | 0.00 | 0.4 | 0 | 1 | 0.484979 | 1.78 | 1.86 | -0.08 | No  | 0.183486 | 0.000000 | 0.32 | 2 |\n",
       "| 146 | MM | 233 | 7 | 1.75 | 1.99 | 0.00 | 0.4 | 1 | 0 | 0.500000 | 1.59 | 1.75 | -0.16 | Yes | 0.201005 | 0.000000 | 0.24 | 0 |\n",
       "\n"
      ],
      "text/plain": [
       "     Purchase WeekofPurchase StoreID PriceCH PriceMM DiscCH DiscMM SpecialCH\n",
       "3    CH       245            1       1.86    2.09    0.17   0.0    0        \n",
       "621  CH       269            7       1.86    2.13    0.27   0.0    1        \n",
       "548  MM       235            2       1.69    1.99    0.00   0.0    0        \n",
       "1065 CH       251            7       1.86    2.09    0.10   0.0    0        \n",
       "453  CH       267            2       1.86    2.18    0.00   0.4    0        \n",
       "146  MM       233            7       1.75    1.99    0.00   0.4    1        \n",
       "     SpecialMM LoyalCH  SalePriceMM SalePriceCH PriceDiff Store7 PctDiscMM\n",
       "3    0         0.680000 2.09        1.69         0.40     No     0.000000 \n",
       "621  0         0.893270 2.13        1.59         0.54     Yes    0.000000 \n",
       "548  0         0.109052 1.99        1.69         0.30     No     0.000000 \n",
       "1065 0         0.484778 2.09        1.76         0.33     Yes    0.000000 \n",
       "453  1         0.484979 1.78        1.86        -0.08     No     0.183486 \n",
       "146  0         0.500000 1.59        1.75        -0.16     Yes    0.201005 \n",
       "     PctDiscCH ListPriceDiff STORE\n",
       "3    0.091398  0.23          1    \n",
       "621  0.145161  0.27          0    \n",
       "548  0.000000  0.30          2    \n",
       "1065 0.053763  0.23          0    \n",
       "453  0.000000  0.32          2    \n",
       "146  0.000000  0.24          0    "
      ]
     },
     "metadata": {},
     "output_type": "display_data"
    },
    {
     "data": {
      "text/html": [
       "<style>\n",
       ".list-inline {list-style: none; margin:0; padding: 0}\n",
       ".list-inline>li {display: inline-block}\n",
       ".list-inline>li:not(:last-child)::after {content: \"\\00b7\"; padding: 0 .5ex}\n",
       "</style>\n",
       "<ol class=list-inline><li>800</li><li>18</li></ol>\n"
      ],
      "text/latex": [
       "\\begin{enumerate*}\n",
       "\\item 800\n",
       "\\item 18\n",
       "\\end{enumerate*}\n"
      ],
      "text/markdown": [
       "1. 800\n",
       "2. 18\n",
       "\n",
       "\n"
      ],
      "text/plain": [
       "[1] 800  18"
      ]
     },
     "metadata": {},
     "output_type": "display_data"
    }
   ],
   "source": [
    "head(training)\n",
    "dim(training)"
   ]
  },
  {
   "cell_type": "code",
   "execution_count": 77,
   "id": "c87d839f",
   "metadata": {},
   "outputs": [
    {
     "data": {
      "text/html": [
       "<table class=\"dataframe\">\n",
       "<caption>A data.frame: 6 × 18</caption>\n",
       "<thead>\n",
       "\t<tr><th></th><th scope=col>Purchase</th><th scope=col>WeekofPurchase</th><th scope=col>StoreID</th><th scope=col>PriceCH</th><th scope=col>PriceMM</th><th scope=col>DiscCH</th><th scope=col>DiscMM</th><th scope=col>SpecialCH</th><th scope=col>SpecialMM</th><th scope=col>LoyalCH</th><th scope=col>SalePriceMM</th><th scope=col>SalePriceCH</th><th scope=col>PriceDiff</th><th scope=col>Store7</th><th scope=col>PctDiscMM</th><th scope=col>PctDiscCH</th><th scope=col>ListPriceDiff</th><th scope=col>STORE</th></tr>\n",
       "\t<tr><th></th><th scope=col>&lt;fct&gt;</th><th scope=col>&lt;dbl&gt;</th><th scope=col>&lt;dbl&gt;</th><th scope=col>&lt;dbl&gt;</th><th scope=col>&lt;dbl&gt;</th><th scope=col>&lt;dbl&gt;</th><th scope=col>&lt;dbl&gt;</th><th scope=col>&lt;dbl&gt;</th><th scope=col>&lt;dbl&gt;</th><th scope=col>&lt;dbl&gt;</th><th scope=col>&lt;dbl&gt;</th><th scope=col>&lt;dbl&gt;</th><th scope=col>&lt;dbl&gt;</th><th scope=col>&lt;fct&gt;</th><th scope=col>&lt;dbl&gt;</th><th scope=col>&lt;dbl&gt;</th><th scope=col>&lt;dbl&gt;</th><th scope=col>&lt;dbl&gt;</th></tr>\n",
       "</thead>\n",
       "<tbody>\n",
       "\t<tr><th scope=row>1</th><td>CH</td><td>237</td><td>1</td><td>1.75</td><td>1.99</td><td>0.00</td><td>0.0</td><td>0</td><td>0</td><td>0.500000</td><td>1.99</td><td>1.75</td><td> 0.24</td><td>No </td><td>0.000000</td><td>0.000000</td><td>0.24</td><td>1</td></tr>\n",
       "\t<tr><th scope=row>2</th><td>CH</td><td>239</td><td>1</td><td>1.75</td><td>1.99</td><td>0.00</td><td>0.3</td><td>0</td><td>1</td><td>0.600000</td><td>1.69</td><td>1.75</td><td>-0.06</td><td>No </td><td>0.150754</td><td>0.000000</td><td>0.24</td><td>1</td></tr>\n",
       "\t<tr><th scope=row>7</th><td>CH</td><td>232</td><td>7</td><td>1.69</td><td>1.99</td><td>0.00</td><td>0.4</td><td>1</td><td>1</td><td>0.972182</td><td>1.59</td><td>1.69</td><td>-0.10</td><td>Yes</td><td>0.201005</td><td>0.000000</td><td>0.30</td><td>0</td></tr>\n",
       "\t<tr><th scope=row>22</th><td>CH</td><td>258</td><td>1</td><td>1.76</td><td>2.18</td><td>0.00</td><td>0.0</td><td>0</td><td>0</td><td>0.680000</td><td>2.18</td><td>1.76</td><td> 0.42</td><td>No </td><td>0.000000</td><td>0.000000</td><td>0.42</td><td>1</td></tr>\n",
       "\t<tr><th scope=row>23</th><td>CH</td><td>259</td><td>7</td><td>1.86</td><td>2.18</td><td>0.00</td><td>0.0</td><td>0</td><td>0</td><td>0.744000</td><td>2.18</td><td>1.86</td><td> 0.32</td><td>Yes</td><td>0.000000</td><td>0.000000</td><td>0.32</td><td>0</td></tr>\n",
       "\t<tr><th scope=row>24</th><td>CH</td><td>264</td><td>7</td><td>1.86</td><td>2.13</td><td>0.37</td><td>0.0</td><td>1</td><td>0</td><td>0.795200</td><td>2.13</td><td>1.49</td><td> 0.64</td><td>Yes</td><td>0.000000</td><td>0.198925</td><td>0.27</td><td>0</td></tr>\n",
       "</tbody>\n",
       "</table>\n"
      ],
      "text/latex": [
       "A data.frame: 6 × 18\n",
       "\\begin{tabular}{r|llllllllllllllllll}\n",
       "  & Purchase & WeekofPurchase & StoreID & PriceCH & PriceMM & DiscCH & DiscMM & SpecialCH & SpecialMM & LoyalCH & SalePriceMM & SalePriceCH & PriceDiff & Store7 & PctDiscMM & PctDiscCH & ListPriceDiff & STORE\\\\\n",
       "  & <fct> & <dbl> & <dbl> & <dbl> & <dbl> & <dbl> & <dbl> & <dbl> & <dbl> & <dbl> & <dbl> & <dbl> & <dbl> & <fct> & <dbl> & <dbl> & <dbl> & <dbl>\\\\\n",
       "\\hline\n",
       "\t1 & CH & 237 & 1 & 1.75 & 1.99 & 0.00 & 0.0 & 0 & 0 & 0.500000 & 1.99 & 1.75 &  0.24 & No  & 0.000000 & 0.000000 & 0.24 & 1\\\\\n",
       "\t2 & CH & 239 & 1 & 1.75 & 1.99 & 0.00 & 0.3 & 0 & 1 & 0.600000 & 1.69 & 1.75 & -0.06 & No  & 0.150754 & 0.000000 & 0.24 & 1\\\\\n",
       "\t7 & CH & 232 & 7 & 1.69 & 1.99 & 0.00 & 0.4 & 1 & 1 & 0.972182 & 1.59 & 1.69 & -0.10 & Yes & 0.201005 & 0.000000 & 0.30 & 0\\\\\n",
       "\t22 & CH & 258 & 1 & 1.76 & 2.18 & 0.00 & 0.0 & 0 & 0 & 0.680000 & 2.18 & 1.76 &  0.42 & No  & 0.000000 & 0.000000 & 0.42 & 1\\\\\n",
       "\t23 & CH & 259 & 7 & 1.86 & 2.18 & 0.00 & 0.0 & 0 & 0 & 0.744000 & 2.18 & 1.86 &  0.32 & Yes & 0.000000 & 0.000000 & 0.32 & 0\\\\\n",
       "\t24 & CH & 264 & 7 & 1.86 & 2.13 & 0.37 & 0.0 & 1 & 0 & 0.795200 & 2.13 & 1.49 &  0.64 & Yes & 0.000000 & 0.198925 & 0.27 & 0\\\\\n",
       "\\end{tabular}\n"
      ],
      "text/markdown": [
       "\n",
       "A data.frame: 6 × 18\n",
       "\n",
       "| <!--/--> | Purchase &lt;fct&gt; | WeekofPurchase &lt;dbl&gt; | StoreID &lt;dbl&gt; | PriceCH &lt;dbl&gt; | PriceMM &lt;dbl&gt; | DiscCH &lt;dbl&gt; | DiscMM &lt;dbl&gt; | SpecialCH &lt;dbl&gt; | SpecialMM &lt;dbl&gt; | LoyalCH &lt;dbl&gt; | SalePriceMM &lt;dbl&gt; | SalePriceCH &lt;dbl&gt; | PriceDiff &lt;dbl&gt; | Store7 &lt;fct&gt; | PctDiscMM &lt;dbl&gt; | PctDiscCH &lt;dbl&gt; | ListPriceDiff &lt;dbl&gt; | STORE &lt;dbl&gt; |\n",
       "|---|---|---|---|---|---|---|---|---|---|---|---|---|---|---|---|---|---|---|\n",
       "| 1 | CH | 237 | 1 | 1.75 | 1.99 | 0.00 | 0.0 | 0 | 0 | 0.500000 | 1.99 | 1.75 |  0.24 | No  | 0.000000 | 0.000000 | 0.24 | 1 |\n",
       "| 2 | CH | 239 | 1 | 1.75 | 1.99 | 0.00 | 0.3 | 0 | 1 | 0.600000 | 1.69 | 1.75 | -0.06 | No  | 0.150754 | 0.000000 | 0.24 | 1 |\n",
       "| 7 | CH | 232 | 7 | 1.69 | 1.99 | 0.00 | 0.4 | 1 | 1 | 0.972182 | 1.59 | 1.69 | -0.10 | Yes | 0.201005 | 0.000000 | 0.30 | 0 |\n",
       "| 22 | CH | 258 | 1 | 1.76 | 2.18 | 0.00 | 0.0 | 0 | 0 | 0.680000 | 2.18 | 1.76 |  0.42 | No  | 0.000000 | 0.000000 | 0.42 | 1 |\n",
       "| 23 | CH | 259 | 7 | 1.86 | 2.18 | 0.00 | 0.0 | 0 | 0 | 0.744000 | 2.18 | 1.86 |  0.32 | Yes | 0.000000 | 0.000000 | 0.32 | 0 |\n",
       "| 24 | CH | 264 | 7 | 1.86 | 2.13 | 0.37 | 0.0 | 1 | 0 | 0.795200 | 2.13 | 1.49 |  0.64 | Yes | 0.000000 | 0.198925 | 0.27 | 0 |\n",
       "\n"
      ],
      "text/plain": [
       "   Purchase WeekofPurchase StoreID PriceCH PriceMM DiscCH DiscMM SpecialCH\n",
       "1  CH       237            1       1.75    1.99    0.00   0.0    0        \n",
       "2  CH       239            1       1.75    1.99    0.00   0.3    0        \n",
       "7  CH       232            7       1.69    1.99    0.00   0.4    1        \n",
       "22 CH       258            1       1.76    2.18    0.00   0.0    0        \n",
       "23 CH       259            7       1.86    2.18    0.00   0.0    0        \n",
       "24 CH       264            7       1.86    2.13    0.37   0.0    1        \n",
       "   SpecialMM LoyalCH  SalePriceMM SalePriceCH PriceDiff Store7 PctDiscMM\n",
       "1  0         0.500000 1.99        1.75         0.24     No     0.000000 \n",
       "2  1         0.600000 1.69        1.75        -0.06     No     0.150754 \n",
       "7  1         0.972182 1.59        1.69        -0.10     Yes    0.201005 \n",
       "22 0         0.680000 2.18        1.76         0.42     No     0.000000 \n",
       "23 0         0.744000 2.18        1.86         0.32     Yes    0.000000 \n",
       "24 0         0.795200 2.13        1.49         0.64     Yes    0.000000 \n",
       "   PctDiscCH ListPriceDiff STORE\n",
       "1  0.000000  0.24          1    \n",
       "2  0.000000  0.24          1    \n",
       "7  0.000000  0.30          0    \n",
       "22 0.000000  0.42          1    \n",
       "23 0.000000  0.32          0    \n",
       "24 0.198925  0.27          0    "
      ]
     },
     "metadata": {},
     "output_type": "display_data"
    },
    {
     "data": {
      "text/html": [
       "<style>\n",
       ".list-inline {list-style: none; margin:0; padding: 0}\n",
       ".list-inline>li {display: inline-block}\n",
       ".list-inline>li:not(:last-child)::after {content: \"\\00b7\"; padding: 0 .5ex}\n",
       "</style>\n",
       "<ol class=list-inline><li>270</li><li>18</li></ol>\n"
      ],
      "text/latex": [
       "\\begin{enumerate*}\n",
       "\\item 270\n",
       "\\item 18\n",
       "\\end{enumerate*}\n"
      ],
      "text/markdown": [
       "1. 270\n",
       "2. 18\n",
       "\n",
       "\n"
      ],
      "text/plain": [
       "[1] 270  18"
      ]
     },
     "metadata": {},
     "output_type": "display_data"
    }
   ],
   "source": [
    "head(testing)\n",
    "dim(testing)"
   ]
  },
  {
   "cell_type": "markdown",
   "id": "8c226709",
   "metadata": {},
   "source": [
    "#### 4(b) -  Fit a support vector classifier to the training data using cost = 0.01, with Purchase as the response and the other variables as predictors. Use the summary() function to produce summary statistics, and describe the results obtained. "
   ]
  },
  {
   "cell_type": "code",
   "execution_count": 78,
   "id": "beee34b5",
   "metadata": {},
   "outputs": [],
   "source": [
    "library(e1071)"
   ]
  },
  {
   "cell_type": "code",
   "execution_count": 82,
   "id": "cbed8e54",
   "metadata": {},
   "outputs": [
    {
     "data": {
      "text/plain": [
       "\n",
       "Call:\n",
       "svm(formula = Purchase ~ ., data = training, kernel = \"linear\", cost = 0.01)\n",
       "\n",
       "\n",
       "Parameters:\n",
       "   SVM-Type:  C-classification \n",
       " SVM-Kernel:  linear \n",
       "       cost:  0.01 \n",
       "\n",
       "Number of Support Vectors:  426\n",
       "\n",
       " ( 214 212 )\n",
       "\n",
       "\n",
       "Number of Classes:  2 \n",
       "\n",
       "Levels: \n",
       " CH MM\n",
       "\n",
       "\n"
      ]
     },
     "metadata": {},
     "output_type": "display_data"
    }
   ],
   "source": [
    "oj_svm_lin<- svm(Purchase ~ ., kernel='linear',  data=training, cost=0.01)\n",
    "summary(oj_svm_lin)"
   ]
  },
  {
   "cell_type": "markdown",
   "id": "34b4b003",
   "metadata": {},
   "source": [
    "Out of 800 training points, the support vector classifier generates 426 support vectors. 213 of these are at the CH level, while the remaining 213 are at the MM level."
   ]
  },
  {
   "cell_type": "markdown",
   "id": "ac19c9cc",
   "metadata": {},
   "source": [
    "#### 4(c) -  What are the training and test error rates? "
   ]
  },
  {
   "cell_type": "code",
   "execution_count": 86,
   "id": "617ad10c",
   "metadata": {},
   "outputs": [
    {
     "data": {
      "text/html": [
       "0.15375"
      ],
      "text/latex": [
       "0.15375"
      ],
      "text/markdown": [
       "0.15375"
      ],
      "text/plain": [
       "[1] 0.15375"
      ]
     },
     "metadata": {},
     "output_type": "display_data"
    }
   ],
   "source": [
    "#training error\n",
    "training_predic<-predict(oj_svm_lin, training)\n",
    "mean(training_predic != training$Purchase)"
   ]
  },
  {
   "cell_type": "markdown",
   "id": "e5bd4017",
   "metadata": {},
   "source": [
    "Training error rate is 15.37%"
   ]
  },
  {
   "cell_type": "code",
   "execution_count": 87,
   "id": "57db8e63",
   "metadata": {},
   "outputs": [
    {
     "data": {
      "text/html": [
       "0.211111111111111"
      ],
      "text/latex": [
       "0.211111111111111"
      ],
      "text/markdown": [
       "0.211111111111111"
      ],
      "text/plain": [
       "[1] 0.2111111"
      ]
     },
     "metadata": {},
     "output_type": "display_data"
    }
   ],
   "source": [
    "#testing error\n",
    "testing_predic<-predict(oj_svm_lin, testing)\n",
    "mean(testing_predic != testing$Purchase)"
   ]
  },
  {
   "cell_type": "markdown",
   "id": "0ab8548e",
   "metadata": {},
   "source": [
    "Testing error rate is 21.1%"
   ]
  },
  {
   "cell_type": "markdown",
   "id": "18e811e6",
   "metadata": {},
   "source": [
    "#### 4(d) - Use the tune() function to select an optimal cost. Consider values in the range 0.01 to 10. "
   ]
  },
  {
   "cell_type": "code",
   "execution_count": 89,
   "id": "c920524e",
   "metadata": {},
   "outputs": [
    {
     "data": {
      "text/plain": [
       "\n",
       "Parameter tuning of ‘svm’:\n",
       "\n",
       "- sampling method: 10-fold cross validation \n",
       "\n",
       "- best parameters:\n",
       " cost\n",
       " 5.56\n",
       "\n",
       "- best performance: 0.1475 \n",
       "\n",
       "- Detailed performance results:\n",
       "    cost   error dispersion\n",
       "1   0.01 0.16000 0.04958158\n",
       "2   1.12 0.15125 0.04581439\n",
       "3   2.23 0.14750 0.04779877\n",
       "4   3.34 0.14750 0.04706674\n",
       "5   4.45 0.14875 0.04543387\n",
       "6   5.56 0.14750 0.04556741\n",
       "7   6.67 0.15125 0.04387878\n",
       "8   7.78 0.15000 0.04249183\n",
       "9   8.89 0.14875 0.04466309\n",
       "10 10.00 0.14875 0.04466309\n"
      ]
     },
     "metadata": {},
     "output_type": "display_data"
    }
   ],
   "source": [
    "oj_data_tune<-tune(svm, Purchase ~ ., data=training, kernel='linear', ranges=list(cost = seq(0.01, 10, length = 10)))\n",
    "summary(oj_data_tune)"
   ]
  },
  {
   "cell_type": "markdown",
   "id": "6efc864c",
   "metadata": {},
   "source": [
    "#### 4(e) -  Compute the training and test error rates using this new value for cost."
   ]
  },
  {
   "cell_type": "code",
   "execution_count": 90,
   "id": "74058108",
   "metadata": {},
   "outputs": [
    {
     "data": {
      "text/html": [
       "0.13875"
      ],
      "text/latex": [
       "0.13875"
      ],
      "text/markdown": [
       "0.13875"
      ],
      "text/plain": [
       "[1] 0.13875"
      ]
     },
     "metadata": {},
     "output_type": "display_data"
    }
   ],
   "source": [
    "#training error\n",
    "\n",
    "new_oj_svm_lin<-svm(Purchase ~ ., kernel='linear', data=training, cost=oj_data_tune$best.parameters$cost)\n",
    "training_predic<-predict(new_oj_svm_lin, training)\n",
    "\n",
    "mean(training_predic != training$Purchase)"
   ]
  },
  {
   "cell_type": "markdown",
   "id": "c2a1ca36",
   "metadata": {},
   "source": [
    "The training error has decreased to 13.87% from 15.37% with the use of optimal cost"
   ]
  },
  {
   "cell_type": "code",
   "execution_count": 91,
   "id": "9fdfbd3e",
   "metadata": {},
   "outputs": [
    {
     "data": {
      "text/html": [
       "0.22962962962963"
      ],
      "text/latex": [
       "0.22962962962963"
      ],
      "text/markdown": [
       "0.22962962962963"
      ],
      "text/plain": [
       "[1] 0.2296296"
      ]
     },
     "metadata": {},
     "output_type": "display_data"
    }
   ],
   "source": [
    "#testing error\n",
    "\n",
    "testing_predic<-predict(new_oj_svm_lin, testing)\n",
    "mean(testing_predic != testing$Purchase)"
   ]
  },
  {
   "cell_type": "markdown",
   "id": "7dd584b6",
   "metadata": {},
   "source": [
    "The testing error has increased with the use of optimal cost - 22.96%"
   ]
  },
  {
   "cell_type": "markdown",
   "id": "adbc8700",
   "metadata": {},
   "source": [
    "#### 4(f) -  Repeat parts (b) through (e) using a support vector machine with a radial kernel. Use the default value for gamma."
   ]
  },
  {
   "cell_type": "code",
   "execution_count": 92,
   "id": "3fbdad4c",
   "metadata": {},
   "outputs": [
    {
     "data": {
      "text/plain": [
       "\n",
       "Call:\n",
       "svm(formula = Purchase ~ ., data = training, kernel = \"radial\")\n",
       "\n",
       "\n",
       "Parameters:\n",
       "   SVM-Type:  C-classification \n",
       " SVM-Kernel:  radial \n",
       "       cost:  1 \n",
       "\n",
       "Number of Support Vectors:  348\n",
       "\n",
       " ( 177 171 )\n",
       "\n",
       "\n",
       "Number of Classes:  2 \n",
       "\n",
       "Levels: \n",
       " CH MM\n",
       "\n",
       "\n"
      ]
     },
     "metadata": {},
     "output_type": "display_data"
    }
   ],
   "source": [
    "#radial kernal\n",
    "oj_svm_radial<-svm(Purchase~ ., kernel='radial', data=training )\n",
    "summary(oj_svm_radial)"
   ]
  },
  {
   "cell_type": "markdown",
   "id": "d034d4e9",
   "metadata": {},
   "source": [
    "The radial kernal createst 348 support vectors out of 800 and CH and MM are split into 174 each"
   ]
  },
  {
   "cell_type": "code",
   "execution_count": 93,
   "id": "7aa899b0",
   "metadata": {},
   "outputs": [
    {
     "data": {
      "text/html": [
       "0.13125"
      ],
      "text/latex": [
       "0.13125"
      ],
      "text/markdown": [
       "0.13125"
      ],
      "text/plain": [
       "[1] 0.13125"
      ]
     },
     "metadata": {},
     "output_type": "display_data"
    }
   ],
   "source": [
    "#training error- radial\n",
    "training_predic<-predict(oj_svm_radial, training)\n",
    "mean(training_predic != training$Purchase)"
   ]
  },
  {
   "cell_type": "markdown",
   "id": "cab5d681",
   "metadata": {},
   "source": [
    "Training error for radial kernal is 13.12%"
   ]
  },
  {
   "cell_type": "code",
   "execution_count": 94,
   "id": "b77c793c",
   "metadata": {},
   "outputs": [
    {
     "data": {
      "text/html": [
       "0.218518518518519"
      ],
      "text/latex": [
       "0.218518518518519"
      ],
      "text/markdown": [
       "0.218518518518519"
      ],
      "text/plain": [
       "[1] 0.2185185"
      ]
     },
     "metadata": {},
     "output_type": "display_data"
    }
   ],
   "source": [
    "#testing error - radial\n",
    "testing_predic<-predict(oj_svm_radial, testing)\n",
    "mean(testing_predic != testing$Purchase)"
   ]
  },
  {
   "cell_type": "markdown",
   "id": "53b7c044",
   "metadata": {},
   "source": [
    "Testing error for radial kernal is 21.85%"
   ]
  },
  {
   "cell_type": "code",
   "execution_count": 95,
   "id": "18e98be4",
   "metadata": {},
   "outputs": [
    {
     "data": {
      "text/plain": [
       "\n",
       "Parameter tuning of ‘svm’:\n",
       "\n",
       "- sampling method: 10-fold cross validation \n",
       "\n",
       "- best parameters:\n",
       " cost\n",
       " 1.12\n",
       "\n",
       "- best performance: 0.155 \n",
       "\n",
       "- Detailed performance results:\n",
       "    cost   error dispersion\n",
       "1   0.01 0.40875 0.03682259\n",
       "2   1.12 0.15500 0.04174992\n",
       "3   2.23 0.16750 0.03395258\n",
       "4   3.34 0.16625 0.03537988\n",
       "5   4.45 0.16750 0.03395258\n",
       "6   5.56 0.16625 0.03120831\n",
       "7   6.67 0.16875 0.03019037\n",
       "8   7.78 0.16875 0.03019037\n",
       "9   8.89 0.17000 0.03291403\n",
       "10 10.00 0.17125 0.03283481\n"
      ]
     },
     "metadata": {},
     "output_type": "display_data"
    }
   ],
   "source": [
    "#tune() - radial\n",
    "\n",
    "oj_radial_tune<-tune(svm, Purchase ~ ., data=training, kernel='radial', ranges=list(cost = seq(0.01, 10, length = 10)))\n",
    "summary(oj_radial_tune)"
   ]
  },
  {
   "cell_type": "code",
   "execution_count": 96,
   "id": "0921647c",
   "metadata": {},
   "outputs": [
    {
     "data": {
      "text/html": [
       "0.135"
      ],
      "text/latex": [
       "0.135"
      ],
      "text/markdown": [
       "0.135"
      ],
      "text/plain": [
       "[1] 0.135"
      ]
     },
     "metadata": {},
     "output_type": "display_data"
    }
   ],
   "source": [
    "#new value - radial\n",
    "#training error\n",
    "new_oj_svm_radial<-svm(Purchase ~ ., kernel='radial', data=training, cost=oj_radial_tune$best.parameters$cost)\n",
    "training_predic<-predict(new_oj_svm_radial, training)\n",
    "mean(training_predic != training$Purchase)"
   ]
  },
  {
   "cell_type": "markdown",
   "id": "26aa4100",
   "metadata": {},
   "source": [
    "Training error rate - 13.5% a slight increase than before"
   ]
  },
  {
   "cell_type": "code",
   "execution_count": 97,
   "id": "5d12a026",
   "metadata": {},
   "outputs": [
    {
     "data": {
      "text/html": [
       "0.214814814814815"
      ],
      "text/latex": [
       "0.214814814814815"
      ],
      "text/markdown": [
       "0.214814814814815"
      ],
      "text/plain": [
       "[1] 0.2148148"
      ]
     },
     "metadata": {},
     "output_type": "display_data"
    }
   ],
   "source": [
    "#testing error\n",
    "testing_predic<-predict(new_oj_svm_radial, testing)\n",
    "mean(testing_predic != testing$Purchase)"
   ]
  },
  {
   "cell_type": "markdown",
   "id": "56bf23bc",
   "metadata": {},
   "source": [
    "Testing error rate - 21.48%"
   ]
  },
  {
   "cell_type": "markdown",
   "id": "78806092",
   "metadata": {},
   "source": [
    "#### 4(g) -  Repeat parts (b) through (e) using a support vector machine with a polynomial kernel. Set degree = 2. "
   ]
  },
  {
   "cell_type": "code",
   "execution_count": 98,
   "id": "ea16958a",
   "metadata": {},
   "outputs": [
    {
     "data": {
      "text/plain": [
       "\n",
       "Call:\n",
       "svm(formula = Purchase ~ ., data = training, kernel = \"polynomial\", \n",
       "    degree = 2)\n",
       "\n",
       "\n",
       "Parameters:\n",
       "   SVM-Type:  C-classification \n",
       " SVM-Kernel:  polynomial \n",
       "       cost:  1 \n",
       "     degree:  2 \n",
       "     coef.0:  0 \n",
       "\n",
       "Number of Support Vectors:  444\n",
       "\n",
       " ( 227 217 )\n",
       "\n",
       "\n",
       "Number of Classes:  2 \n",
       "\n",
       "Levels: \n",
       " CH MM\n",
       "\n",
       "\n"
      ]
     },
     "metadata": {},
     "output_type": "display_data"
    }
   ],
   "source": [
    "#polynimial kernal\n",
    "oj_svm_poly<-svm(Purchase~ ., kernel='polynomial', data=training, degree=2 )\n",
    "summary(oj_svm_poly)"
   ]
  },
  {
   "cell_type": "markdown",
   "id": "77aab191",
   "metadata": {},
   "source": [
    "The polynomial kernal with degree 2 creates 444 support vectors of which 222 belong to CH and rest to MM"
   ]
  },
  {
   "cell_type": "code",
   "execution_count": 99,
   "id": "3e5f6e28",
   "metadata": {},
   "outputs": [
    {
     "data": {
      "text/html": [
       "0.16"
      ],
      "text/latex": [
       "0.16"
      ],
      "text/markdown": [
       "0.16"
      ],
      "text/plain": [
       "[1] 0.16"
      ]
     },
     "metadata": {},
     "output_type": "display_data"
    }
   ],
   "source": [
    "#training error- poly\n",
    "training_predic<-predict(oj_svm_poly, training)\n",
    "mean(training_predic != training$Purchase)"
   ]
  },
  {
   "cell_type": "markdown",
   "id": "80165780",
   "metadata": {},
   "source": [
    "Training error rate is 16%"
   ]
  },
  {
   "cell_type": "code",
   "execution_count": 100,
   "id": "c41dd50e",
   "metadata": {},
   "outputs": [
    {
     "data": {
      "text/html": [
       "0.211111111111111"
      ],
      "text/latex": [
       "0.211111111111111"
      ],
      "text/markdown": [
       "0.211111111111111"
      ],
      "text/plain": [
       "[1] 0.2111111"
      ]
     },
     "metadata": {},
     "output_type": "display_data"
    }
   ],
   "source": [
    "#testing error - poly\n",
    "testing_predic<-predict(oj_svm_poly, testing)\n",
    "mean(testing_predic != testing$Purchase)"
   ]
  },
  {
   "cell_type": "markdown",
   "id": "59c5117a",
   "metadata": {},
   "source": [
    "Testing error rate is 21.1%"
   ]
  },
  {
   "cell_type": "code",
   "execution_count": 102,
   "id": "1324dff1",
   "metadata": {},
   "outputs": [
    {
     "data": {
      "text/plain": [
       "\n",
       "Parameter tuning of ‘svm’:\n",
       "\n",
       "- sampling method: 10-fold cross validation \n",
       "\n",
       "- best parameters:\n",
       " cost\n",
       " 3.34\n",
       "\n",
       "- best performance: 0.16125 \n",
       "\n",
       "- Detailed performance results:\n",
       "    cost   error dispersion\n",
       "1   0.01 0.38375 0.06429371\n",
       "2   1.12 0.18625 0.03747684\n",
       "3   2.23 0.16750 0.02713137\n",
       "4   3.34 0.16125 0.02913689\n",
       "5   4.45 0.16125 0.02853482\n",
       "6   5.56 0.16250 0.02500000\n",
       "7   6.67 0.16375 0.02161050\n",
       "8   7.78 0.16500 0.02622022\n",
       "9   8.89 0.16250 0.02700309\n",
       "10 10.00 0.16500 0.02486072\n"
      ]
     },
     "metadata": {},
     "output_type": "display_data"
    }
   ],
   "source": [
    "#tune() - poly\n",
    "oj_poly_tune<-tune(svm, Purchase ~ ., data=training, kernel='polynomial', degree=2, ranges=list(cost = seq(0.01, 10, length = 10)))\n",
    "summary(oj_poly_tune)"
   ]
  },
  {
   "cell_type": "code",
   "execution_count": 103,
   "id": "014b7faa",
   "metadata": {},
   "outputs": [
    {
     "data": {
      "text/html": [
       "0.1325"
      ],
      "text/latex": [
       "0.1325"
      ],
      "text/markdown": [
       "0.1325"
      ],
      "text/plain": [
       "[1] 0.1325"
      ]
     },
     "metadata": {},
     "output_type": "display_data"
    }
   ],
   "source": [
    "#new value - poly\n",
    "new_oj_svm_poly<-svm(Purchase ~ ., kernel='polynomial', data=training, degree=2, cost=oj_poly_tune$best.parameters$cost)\n",
    "training_predic<-predict(new_oj_svm_poly, training)\n",
    "mean(training_predic != training$Purchase)"
   ]
  },
  {
   "cell_type": "markdown",
   "id": "25d748bf",
   "metadata": {},
   "source": [
    "Training error rate - 13.25%, it's a significant reduction from original"
   ]
  },
  {
   "cell_type": "code",
   "execution_count": 105,
   "id": "08e181fd",
   "metadata": {},
   "outputs": [
    {
     "data": {
      "text/html": [
       "0.214814814814815"
      ],
      "text/latex": [
       "0.214814814814815"
      ],
      "text/markdown": [
       "0.214814814814815"
      ],
      "text/plain": [
       "[1] 0.2148148"
      ]
     },
     "metadata": {},
     "output_type": "display_data"
    }
   ],
   "source": [
    "testing_predic<-predict(new_oj_svm_poly, testing)\n",
    "mean(testing_predic != testing$Purchase)"
   ]
  },
  {
   "cell_type": "markdown",
   "id": "b700d555",
   "metadata": {},
   "source": [
    "Testing error rate is 21.48%"
   ]
  },
  {
   "cell_type": "markdown",
   "id": "09f2bc63",
   "metadata": {},
   "source": [
    "#### 4(h) -  Overall, which approach seems to give the best results on this data? "
   ]
  },
  {
   "cell_type": "markdown",
   "id": "e4f8f77a",
   "metadata": {},
   "source": [
    "Basis radial kernel with the default gamma is the method that, overall, produces the best results with these data. The training and test datasets with this method had the lowest misclassification rate."
   ]
  },
  {
   "cell_type": "code",
   "execution_count": null,
   "id": "18efa801",
   "metadata": {},
   "outputs": [],
   "source": []
  },
  {
   "cell_type": "markdown",
   "id": "c3a91a0d",
   "metadata": {},
   "source": [
    "### Q7 - Fit a neural network to the Default data in the ISLR2 package. Use a single hidden layer with 10 units, and regularization. Have a look at ISLR Labs 10.9.1–10.9.2, and in class, for guidance. Compare the classification performance of yourmodel with that of logistic regression. "
   ]
  },
  {
   "cell_type": "code",
   "execution_count": 2,
   "id": "accca29d",
   "metadata": {},
   "outputs": [
    {
     "name": "stdout",
     "output_type": "stream",
     "text": [
      "\n",
      "The downloaded binary packages are in\n",
      "\t/var/folders/p2/3vyybrys3f5cgcrs2zkj3hdw0000gn/T//RtmpbcUsZU/downloaded_packages\n",
      "\n",
      "The downloaded binary packages are in\n",
      "\t/var/folders/p2/3vyybrys3f5cgcrs2zkj3hdw0000gn/T//RtmpbcUsZU/downloaded_packages\n"
     ]
    }
   ],
   "source": [
    "install.packages(\"keras\")\n",
    "install.packages(\"tensorflow\")"
   ]
  },
  {
   "cell_type": "code",
   "execution_count": 3,
   "id": "18702f90",
   "metadata": {},
   "outputs": [
    {
     "name": "stderr",
     "output_type": "stream",
     "text": [
      "Loading required package: Matrix\n",
      "\n",
      "Loaded glmnet 4.1-4\n",
      "\n"
     ]
    }
   ],
   "source": [
    "library(ISLR2)\n",
    "library(keras)\n",
    "library(glmnet)\n",
    "library(tensorflow)"
   ]
  },
  {
   "cell_type": "code",
   "execution_count": 4,
   "id": "d02590d6",
   "metadata": {},
   "outputs": [
    {
     "data": {
      "text/plain": [
       " default    student       balance           income     \n",
       " No :9667   No :7056   Min.   :   0.0   Min.   :  772  \n",
       " Yes: 333   Yes:2944   1st Qu.: 481.7   1st Qu.:21340  \n",
       "                       Median : 823.6   Median :34553  \n",
       "                       Mean   : 835.4   Mean   :33517  \n",
       "                       3rd Qu.:1166.3   3rd Qu.:43808  \n",
       "                       Max.   :2654.3   Max.   :73554  "
      ]
     },
     "metadata": {},
     "output_type": "display_data"
    }
   ],
   "source": [
    "summary(Default)"
   ]
  },
  {
   "cell_type": "code",
   "execution_count": 5,
   "id": "6b65ad04",
   "metadata": {},
   "outputs": [
    {
     "data": {
      "text/html": [
       "0"
      ],
      "text/latex": [
       "0"
      ],
      "text/markdown": [
       "0"
      ],
      "text/plain": [
       "[1] 0"
      ]
     },
     "metadata": {},
     "output_type": "display_data"
    }
   ],
   "source": [
    "#null values\n",
    "sum(is.na(Default))"
   ]
  },
  {
   "cell_type": "code",
   "execution_count": 6,
   "id": "5cc234db",
   "metadata": {},
   "outputs": [],
   "source": [
    "#logistic regression\n",
    "x <- scale(model.matrix(default ~ . - 1, data = Default))\n",
    "y <- Default$default"
   ]
  },
  {
   "cell_type": "code",
   "execution_count": 7,
   "id": "eff707db",
   "metadata": {},
   "outputs": [],
   "source": [
    "set.seed(37)"
   ]
  },
  {
   "cell_type": "code",
   "execution_count": 8,
   "id": "81a09bc4",
   "metadata": {},
   "outputs": [],
   "source": [
    "#creating train and test data\n",
    "train_in <- sample(1:nrow(x), nrow(x)*.8)\n",
    "training <- y[train_in]\n",
    "testing <- y[-train_in]"
   ]
  },
  {
   "cell_type": "code",
   "execution_count": 9,
   "id": "ffdb0e76",
   "metadata": {},
   "outputs": [],
   "source": [
    "library(glmnet)"
   ]
  },
  {
   "cell_type": "code",
   "execution_count": 10,
   "id": "42fa0087",
   "metadata": {},
   "outputs": [
    {
     "data": {
      "text/plain": [
       "              testing\n",
       "log_reg_predic   No  Yes\n",
       "           No  1916   50\n",
       "           Yes    8   26"
      ]
     },
     "metadata": {},
     "output_type": "display_data"
    }
   ],
   "source": [
    "cv_fitting <- cv.glmnet(x[train_in, ], as.numeric(training), family = \"binomial\", type.measure = \"class\")\n",
    "c_predic <- predict(cv_fitting, x[-train_in, ], s = \"lambda.min\", type = \"response\")\n",
    "log_reg_predic <- rep(\"No\", length(c_predic))\n",
    "log_reg_predic[c_predic >0.5] <- \"Yes\"\n",
    "table(log_reg_predic, testing)"
   ]
  },
  {
   "cell_type": "code",
   "execution_count": 11,
   "id": "7f07b6b2",
   "metadata": {},
   "outputs": [
    {
     "data": {
      "text/html": [
       "0.017"
      ],
      "text/latex": [
       "0.017"
      ],
      "text/markdown": [
       "0.017"
      ],
      "text/plain": [
       "[1] 0.017"
      ]
     },
     "metadata": {},
     "output_type": "display_data"
    }
   ],
   "source": [
    "1-(1916+50)/(26+8+1916+50)"
   ]
  },
  {
   "cell_type": "markdown",
   "id": "fe556313",
   "metadata": {},
   "source": [
    "error rate from logestic regression - 1.7%"
   ]
  },
  {
   "cell_type": "code",
   "execution_count": null,
   "id": "2ecf04c4",
   "metadata": {},
   "outputs": [],
   "source": [
    "#neural model"
   ]
  },
  {
   "cell_type": "code",
   "execution_count": null,
   "id": "674f358d",
   "metadata": {},
   "outputs": [],
   "source": [
    "nn <-  keras_model_sequential() %>%\n",
    "  layer_dense(10, activation = 'relu',\n",
    "              input_shape = ncol(x[train_in, ])) %>%\n",
    "  layer_dropout(rate = 0.7) %>%\n",
    "  layer_dense(units = 1, activation = 'sigmoid')"
   ]
  },
  {
   "cell_type": "code",
   "execution_count": null,
   "id": "3a2908d4",
   "metadata": {},
   "outputs": [],
   "source": [
    "nn %>% compile(loss = \"categorical_crossentropy\",\n",
    "                  optimizer = optimizer_rmsprop(),\n",
    "                  metrics = \"accuracy\")"
   ]
  },
  {
   "cell_type": "code",
   "execution_count": null,
   "id": "bab7764a",
   "metadata": {},
   "outputs": [],
   "source": [
    "history <- nn %>% fit(x[train_in, ], as.numeric(as.factor(training)), epochs = 100, batch_size = 254,\n",
    "                            validation_data = list(x[-train_in, ], as.numeric(as.factor(testing))))"
   ]
  },
  {
   "cell_type": "code",
   "execution_count": 13,
   "id": "39800cb3",
   "metadata": {},
   "outputs": [],
   "source": [
    "acc <- function(predic, truth){\n",
    "  mean(drop(predic) == drop(truth))\n",
    "}"
   ]
  },
  {
   "cell_type": "code",
   "execution_count": null,
   "id": "bcc76e79",
   "metadata": {},
   "outputs": [],
   "source": [
    "1 - nn %>% predict_classes(x[-train_in, ]) %>% acc(as.numeric(as.factor(testing)))"
   ]
  },
  {
   "cell_type": "markdown",
   "id": "5c30926c",
   "metadata": {},
   "source": [
    "error rate here - 2.3%"
   ]
  },
  {
   "cell_type": "markdown",
   "id": "6dbc971e",
   "metadata": {},
   "source": [
    "Given that the error rate on the test data is lower, the neural network performs better in this situation than logistic regression."
   ]
  },
  {
   "cell_type": "code",
   "execution_count": null,
   "id": "4a2b52da",
   "metadata": {},
   "outputs": [],
   "source": []
  }
 ],
 "metadata": {
  "kernelspec": {
   "display_name": "R",
   "language": "R",
   "name": "ir"
  }
 },
 "nbformat": 4,
 "nbformat_minor": 5
}
